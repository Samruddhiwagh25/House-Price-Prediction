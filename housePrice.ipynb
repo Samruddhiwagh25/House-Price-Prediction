{
 "cells": [
  {
   "cell_type": "code",
   "execution_count": 1,
   "id": "ed62af9e",
   "metadata": {},
   "outputs": [],
   "source": [
    "import pandas as pd\n",
    "from matplotlib import pyplot as plt"
   ]
  },
  {
   "cell_type": "code",
   "execution_count": 2,
   "id": "676299e2",
   "metadata": {},
   "outputs": [],
   "source": [
    "df_train = pd.read_csv('../../datasets/HousePrice Prediction/train.csv')\n",
    "df_test = pd.read_csv('../../datasets/HousePrice Prediction/test.csv')"
   ]
  },
  {
   "cell_type": "code",
   "execution_count": 3,
   "id": "083910bd",
   "metadata": {
    "scrolled": true
   },
   "outputs": [
    {
     "data": {
      "text/html": [
       "<div>\n",
       "<style scoped>\n",
       "    .dataframe tbody tr th:only-of-type {\n",
       "        vertical-align: middle;\n",
       "    }\n",
       "\n",
       "    .dataframe tbody tr th {\n",
       "        vertical-align: top;\n",
       "    }\n",
       "\n",
       "    .dataframe thead th {\n",
       "        text-align: right;\n",
       "    }\n",
       "</style>\n",
       "<table border=\"1\" class=\"dataframe\">\n",
       "  <thead>\n",
       "    <tr style=\"text-align: right;\">\n",
       "      <th></th>\n",
       "      <th>Id</th>\n",
       "      <th>MSSubClass</th>\n",
       "      <th>MSZoning</th>\n",
       "      <th>LotFrontage</th>\n",
       "      <th>LotArea</th>\n",
       "      <th>Street</th>\n",
       "      <th>Alley</th>\n",
       "      <th>LotShape</th>\n",
       "      <th>LandContour</th>\n",
       "      <th>Utilities</th>\n",
       "      <th>...</th>\n",
       "      <th>PoolArea</th>\n",
       "      <th>PoolQC</th>\n",
       "      <th>Fence</th>\n",
       "      <th>MiscFeature</th>\n",
       "      <th>MiscVal</th>\n",
       "      <th>MoSold</th>\n",
       "      <th>YrSold</th>\n",
       "      <th>SaleType</th>\n",
       "      <th>SaleCondition</th>\n",
       "      <th>SalePrice</th>\n",
       "    </tr>\n",
       "  </thead>\n",
       "  <tbody>\n",
       "    <tr>\n",
       "      <th>0</th>\n",
       "      <td>1</td>\n",
       "      <td>60</td>\n",
       "      <td>RL</td>\n",
       "      <td>65.0</td>\n",
       "      <td>8450</td>\n",
       "      <td>Pave</td>\n",
       "      <td>NaN</td>\n",
       "      <td>Reg</td>\n",
       "      <td>Lvl</td>\n",
       "      <td>AllPub</td>\n",
       "      <td>...</td>\n",
       "      <td>0</td>\n",
       "      <td>NaN</td>\n",
       "      <td>NaN</td>\n",
       "      <td>NaN</td>\n",
       "      <td>0</td>\n",
       "      <td>2</td>\n",
       "      <td>2008</td>\n",
       "      <td>WD</td>\n",
       "      <td>Normal</td>\n",
       "      <td>208500</td>\n",
       "    </tr>\n",
       "    <tr>\n",
       "      <th>1</th>\n",
       "      <td>2</td>\n",
       "      <td>20</td>\n",
       "      <td>RL</td>\n",
       "      <td>80.0</td>\n",
       "      <td>9600</td>\n",
       "      <td>Pave</td>\n",
       "      <td>NaN</td>\n",
       "      <td>Reg</td>\n",
       "      <td>Lvl</td>\n",
       "      <td>AllPub</td>\n",
       "      <td>...</td>\n",
       "      <td>0</td>\n",
       "      <td>NaN</td>\n",
       "      <td>NaN</td>\n",
       "      <td>NaN</td>\n",
       "      <td>0</td>\n",
       "      <td>5</td>\n",
       "      <td>2007</td>\n",
       "      <td>WD</td>\n",
       "      <td>Normal</td>\n",
       "      <td>181500</td>\n",
       "    </tr>\n",
       "    <tr>\n",
       "      <th>2</th>\n",
       "      <td>3</td>\n",
       "      <td>60</td>\n",
       "      <td>RL</td>\n",
       "      <td>68.0</td>\n",
       "      <td>11250</td>\n",
       "      <td>Pave</td>\n",
       "      <td>NaN</td>\n",
       "      <td>IR1</td>\n",
       "      <td>Lvl</td>\n",
       "      <td>AllPub</td>\n",
       "      <td>...</td>\n",
       "      <td>0</td>\n",
       "      <td>NaN</td>\n",
       "      <td>NaN</td>\n",
       "      <td>NaN</td>\n",
       "      <td>0</td>\n",
       "      <td>9</td>\n",
       "      <td>2008</td>\n",
       "      <td>WD</td>\n",
       "      <td>Normal</td>\n",
       "      <td>223500</td>\n",
       "    </tr>\n",
       "    <tr>\n",
       "      <th>3</th>\n",
       "      <td>4</td>\n",
       "      <td>70</td>\n",
       "      <td>RL</td>\n",
       "      <td>60.0</td>\n",
       "      <td>9550</td>\n",
       "      <td>Pave</td>\n",
       "      <td>NaN</td>\n",
       "      <td>IR1</td>\n",
       "      <td>Lvl</td>\n",
       "      <td>AllPub</td>\n",
       "      <td>...</td>\n",
       "      <td>0</td>\n",
       "      <td>NaN</td>\n",
       "      <td>NaN</td>\n",
       "      <td>NaN</td>\n",
       "      <td>0</td>\n",
       "      <td>2</td>\n",
       "      <td>2006</td>\n",
       "      <td>WD</td>\n",
       "      <td>Abnorml</td>\n",
       "      <td>140000</td>\n",
       "    </tr>\n",
       "    <tr>\n",
       "      <th>4</th>\n",
       "      <td>5</td>\n",
       "      <td>60</td>\n",
       "      <td>RL</td>\n",
       "      <td>84.0</td>\n",
       "      <td>14260</td>\n",
       "      <td>Pave</td>\n",
       "      <td>NaN</td>\n",
       "      <td>IR1</td>\n",
       "      <td>Lvl</td>\n",
       "      <td>AllPub</td>\n",
       "      <td>...</td>\n",
       "      <td>0</td>\n",
       "      <td>NaN</td>\n",
       "      <td>NaN</td>\n",
       "      <td>NaN</td>\n",
       "      <td>0</td>\n",
       "      <td>12</td>\n",
       "      <td>2008</td>\n",
       "      <td>WD</td>\n",
       "      <td>Normal</td>\n",
       "      <td>250000</td>\n",
       "    </tr>\n",
       "  </tbody>\n",
       "</table>\n",
       "<p>5 rows × 81 columns</p>\n",
       "</div>"
      ],
      "text/plain": [
       "   Id  MSSubClass MSZoning  LotFrontage  LotArea Street Alley LotShape  \\\n",
       "0   1          60       RL         65.0     8450   Pave   NaN      Reg   \n",
       "1   2          20       RL         80.0     9600   Pave   NaN      Reg   \n",
       "2   3          60       RL         68.0    11250   Pave   NaN      IR1   \n",
       "3   4          70       RL         60.0     9550   Pave   NaN      IR1   \n",
       "4   5          60       RL         84.0    14260   Pave   NaN      IR1   \n",
       "\n",
       "  LandContour Utilities  ... PoolArea PoolQC Fence MiscFeature MiscVal MoSold  \\\n",
       "0         Lvl    AllPub  ...        0    NaN   NaN         NaN       0      2   \n",
       "1         Lvl    AllPub  ...        0    NaN   NaN         NaN       0      5   \n",
       "2         Lvl    AllPub  ...        0    NaN   NaN         NaN       0      9   \n",
       "3         Lvl    AllPub  ...        0    NaN   NaN         NaN       0      2   \n",
       "4         Lvl    AllPub  ...        0    NaN   NaN         NaN       0     12   \n",
       "\n",
       "  YrSold  SaleType  SaleCondition  SalePrice  \n",
       "0   2008        WD         Normal     208500  \n",
       "1   2007        WD         Normal     181500  \n",
       "2   2008        WD         Normal     223500  \n",
       "3   2006        WD        Abnorml     140000  \n",
       "4   2008        WD         Normal     250000  \n",
       "\n",
       "[5 rows x 81 columns]"
      ]
     },
     "execution_count": 3,
     "metadata": {},
     "output_type": "execute_result"
    }
   ],
   "source": [
    "df_train.head()"
   ]
  },
  {
   "cell_type": "code",
   "execution_count": 4,
   "id": "a94eafe9",
   "metadata": {},
   "outputs": [
    {
     "data": {
      "text/plain": [
       "(array([148., 723., 373., 135.,  51.,  19.,   4.,   3.,   2.,   2.]),\n",
       " array([ 34900., 106910., 178920., 250930., 322940., 394950., 466960.,\n",
       "        538970., 610980., 682990., 755000.]),\n",
       " <BarContainer object of 10 artists>)"
      ]
     },
     "execution_count": 4,
     "metadata": {},
     "output_type": "execute_result"
    },
    {
     "data": {
      "image/png": "[encoded data removed]",
      "text/plain": [
       "<Figure size 640x480 with 1 Axes>"
      ]
     },
     "metadata": {},
     "output_type": "display_data"
    }
   ],
   "source": [
    "plt.hist(df_train['SalePrice'])"
   ]
  },
  {
   "cell_type": "code",
   "execution_count": 5,
   "id": "8df2141a",
   "metadata": {},
   "outputs": [],
   "source": [
    "df_train=df_train[df_train['SalePrice']<540000]"
   ]
  },
  {
   "cell_type": "markdown",
   "id": "15e99510",
   "metadata": {},
   "source": [
    "# Missing Values"
   ]
  },
  {
   "cell_type": "code",
   "execution_count": 6,
   "id": "272b1826",
   "metadata": {},
   "outputs": [
    {
     "data": {
      "text/plain": [
       "{'Id': 0,\n",
       " 'MSSubClass': 0,\n",
       " 'MSZoning': 0,\n",
       " 'LotFrontage': 259,\n",
       " 'LotArea': 0,\n",
       " 'Street': 0,\n",
       " 'Alley': 1362,\n",
       " 'LotShape': 0,\n",
       " 'LandContour': 0,\n",
       " 'Utilities': 0,\n",
       " 'LotConfig': 0,\n",
       " 'LandSlope': 0,\n",
       " 'Neighborhood': 0,\n",
       " 'Condition1': 0,\n",
       " 'Condition2': 0,\n",
       " 'BldgType': 0,\n",
       " 'HouseStyle': 0,\n",
       " 'OverallQual': 0,\n",
       " 'OverallCond': 0,\n",
       " 'YearBuilt': 0,\n",
       " 'YearRemodAdd': 0,\n",
       " 'RoofStyle': 0,\n",
       " 'RoofMatl': 0,\n",
       " 'Exterior1st': 0,\n",
       " 'Exterior2nd': 0,\n",
       " 'MasVnrType': 8,\n",
       " 'MasVnrArea': 8,\n",
       " 'ExterQual': 0,\n",
       " 'ExterCond': 0,\n",
       " 'Foundation': 0,\n",
       " 'BsmtQual': 37,\n",
       " 'BsmtCond': 37,\n",
       " 'BsmtExposure': 38,\n",
       " 'BsmtFinType1': 37,\n",
       " 'BsmtFinSF1': 0,\n",
       " 'BsmtFinType2': 38,\n",
       " 'BsmtFinSF2': 0,\n",
       " 'BsmtUnfSF': 0,\n",
       " 'TotalBsmtSF': 0,\n",
       " 'Heating': 0,\n",
       " 'HeatingQC': 0,\n",
       " 'CentralAir': 0,\n",
       " 'Electrical': 1,\n",
       " '1stFlrSF': 0,\n",
       " '2ndFlrSF': 0,\n",
       " 'LowQualFinSF': 0,\n",
       " 'GrLivArea': 0,\n",
       " 'BsmtFullBath': 0,\n",
       " 'BsmtHalfBath': 0,\n",
       " 'FullBath': 0,\n",
       " 'HalfBath': 0,\n",
       " 'BedroomAbvGr': 0,\n",
       " 'KitchenAbvGr': 0,\n",
       " 'KitchenQual': 0,\n",
       " 'TotRmsAbvGrd': 0,\n",
       " 'Functional': 0,\n",
       " 'Fireplaces': 0,\n",
       " 'FireplaceQu': 690,\n",
       " 'GarageType': 81,\n",
       " 'GarageYrBlt': 81,\n",
       " 'GarageFinish': 81,\n",
       " 'GarageCars': 0,\n",
       " 'GarageArea': 0,\n",
       " 'GarageQual': 81,\n",
       " 'GarageCond': 81,\n",
       " 'PavedDrive': 0,\n",
       " 'WoodDeckSF': 0,\n",
       " 'OpenPorchSF': 0,\n",
       " 'EnclosedPorch': 0,\n",
       " '3SsnPorch': 0,\n",
       " 'ScreenPorch': 0,\n",
       " 'PoolArea': 0,\n",
       " 'PoolQC': 1447,\n",
       " 'Fence': 1173,\n",
       " 'MiscFeature': 1399,\n",
       " 'MiscVal': 0,\n",
       " 'MoSold': 0,\n",
       " 'YrSold': 0,\n",
       " 'SaleType': 0,\n",
       " 'SaleCondition': 0,\n",
       " 'SalePrice': 0}"
      ]
     },
     "execution_count": 6,
     "metadata": {},
     "output_type": "execute_result"
    }
   ],
   "source": [
    "df_train.isna().sum().to_dict()"
   ]
  },
  {
   "cell_type": "code",
   "execution_count": 7,
   "id": "12aeb651",
   "metadata": {},
   "outputs": [],
   "source": [
    "columns_numeric = list(df_train.select_dtypes(exclude='object').columns)\n",
    "columns_numeric.remove('Id')\n",
    "columns_numeric.remove('SalePrice')\n",
    "columns_categorical = list(df_train.select_dtypes(include='object').columns)"
   ]
  },
  {
   "cell_type": "code",
   "execution_count": 8,
   "id": "823f7624",
   "metadata": {},
   "outputs": [],
   "source": [
    "from sklearn.impute import SimpleImputer\n",
    "imputer_numeric = SimpleImputer(strategy='median')\n",
    "imputer_cat = SimpleImputer(strategy='most_frequent')\n",
    "\n",
    "imputer_numeric.fit(df_train[columns_numeric]) # median of every column\n",
    "imputer_cat.fit(df_train[columns_categorical]) # mode of every column\n",
    "\n",
    "df_train[columns_numeric] = imputer_numeric.transform(df_train[columns_numeric]) # fills missing data\n",
    "df_train[columns_categorical] = imputer_cat.transform(df_train[columns_categorical]) # fill"
   ]
  },
  {
   "cell_type": "code",
   "execution_count": 9,
   "id": "59bd657e",
   "metadata": {},
   "outputs": [
    {
     "data": {
      "text/plain": [
       "0"
      ]
     },
     "execution_count": 9,
     "metadata": {},
     "output_type": "execute_result"
    }
   ],
   "source": [
    "df_train.isna().sum().sum()"
   ]
  },
  {
   "cell_type": "code",
   "execution_count": 10,
   "id": "5fe37887",
   "metadata": {},
   "outputs": [],
   "source": [
    "df_test[columns_numeric] = imputer_numeric.transform(df_test[columns_numeric]) # fills missing data\n",
    "df_test[columns_categorical] = imputer_cat.transform(df_test[columns_categorical]) # fill"
   ]
  },
  {
   "cell_type": "code",
   "execution_count": 11,
   "id": "742bb4a5",
   "metadata": {},
   "outputs": [
    {
     "data": {
      "text/plain": [
       "0"
      ]
     },
     "execution_count": 11,
     "metadata": {},
     "output_type": "execute_result"
    }
   ],
   "source": [
    "df_test.isna().sum().sum()"
   ]
  },
  {
   "cell_type": "markdown",
   "id": "3f067afd",
   "metadata": {},
   "source": [
    "# Feature Encoding - Categorical =>OneHotEncoding"
   ]
  },
  {
   "cell_type": "code",
   "execution_count": 12,
   "id": "f37367eb",
   "metadata": {},
   "outputs": [
    {
     "name": "stderr",
     "output_type": "stream",
     "text": [
      "C:\\ProgramData\\anaconda3\\lib\\site-packages\\sklearn\\preprocessing\\_encoders.py:828: FutureWarning: `sparse` was renamed to `sparse_output` in version 1.2 and will be removed in 1.4. `sparse_output` is ignored unless you leave `sparse` to its default value.\n",
      "  warnings.warn(\n"
     ]
    },
    {
     "data": {
      "text/html": [
       "<style>#sk-container-id-1 {color: black;background-color: white;}#sk-container-id-1 pre{padding: 0;}#sk-container-id-1 div.sk-toggleable {background-color: white;}#sk-container-id-1 label.sk-toggleable__label {cursor: pointer;display: block;width: 100%;margin-bottom: 0;padding: 0.3em;box-sizing: border-box;text-align: center;}#sk-container-id-1 label.sk-toggleable__label-arrow:before {content: \"▸\";float: left;margin-right: 0.25em;color: #696969;}#sk-container-id-1 label.sk-toggleable__label-arrow:hover:before {color: black;}#sk-container-id-1 div.sk-estimator:hover label.sk-toggleable__label-arrow:before {color: black;}#sk-container-id-1 div.sk-toggleable__content {max-height: 0;max-width: 0;overflow: hidden;text-align: left;background-color: #f0f8ff;}#sk-container-id-1 div.sk-toggleable__content pre {margin: 0.2em;color: black;border-radius: 0.25em;background-color: #f0f8ff;}#sk-container-id-1 input.sk-toggleable__control:checked~div.sk-toggleable__content {max-height: 200px;max-width: 100%;overflow: auto;}#sk-container-id-1 input.sk-toggleable__control:checked~label.sk-toggleable__label-arrow:before {content: \"▾\";}#sk-container-id-1 div.sk-estimator input.sk-toggleable__control:checked~label.sk-toggleable__label {background-color: #d4ebff;}#sk-container-id-1 div.sk-label input.sk-toggleable__control:checked~label.sk-toggleable__label {background-color: #d4ebff;}#sk-container-id-1 input.sk-hidden--visually {border: 0;clip: rect(1px 1px 1px 1px);clip: rect(1px, 1px, 1px, 1px);height: 1px;margin: -1px;overflow: hidden;padding: 0;position: absolute;width: 1px;}#sk-container-id-1 div.sk-estimator {font-family: monospace;background-color: #f0f8ff;border: 1px dotted black;border-radius: 0.25em;box-sizing: border-box;margin-bottom: 0.5em;}#sk-container-id-1 div.sk-estimator:hover {background-color: #d4ebff;}#sk-container-id-1 div.sk-parallel-item::after {content: \"\";width: 100%;border-bottom: 1px solid gray;flex-grow: 1;}#sk-container-id-1 div.sk-label:hover label.sk-toggleable__label {background-color: #d4ebff;}#sk-container-id-1 div.sk-serial::before {content: \"\";position: absolute;border-left: 1px solid gray;box-sizing: border-box;top: 0;bottom: 0;left: 50%;z-index: 0;}#sk-container-id-1 div.sk-serial {display: flex;flex-direction: column;align-items: center;background-color: white;padding-right: 0.2em;padding-left: 0.2em;position: relative;}#sk-container-id-1 div.sk-item {position: relative;z-index: 1;}#sk-container-id-1 div.sk-parallel {display: flex;align-items: stretch;justify-content: center;background-color: white;position: relative;}#sk-container-id-1 div.sk-item::before, #sk-container-id-1 div.sk-parallel-item::before {content: \"\";position: absolute;border-left: 1px solid gray;box-sizing: border-box;top: 0;bottom: 0;left: 50%;z-index: -1;}#sk-container-id-1 div.sk-parallel-item {display: flex;flex-direction: column;z-index: 1;position: relative;background-color: white;}#sk-container-id-1 div.sk-parallel-item:first-child::after {align-self: flex-end;width: 50%;}#sk-container-id-1 div.sk-parallel-item:last-child::after {align-self: flex-start;width: 50%;}#sk-container-id-1 div.sk-parallel-item:only-child::after {width: 0;}#sk-container-id-1 div.sk-dashed-wrapped {border: 1px dashed gray;margin: 0 0.4em 0.5em 0.4em;box-sizing: border-box;padding-bottom: 0.4em;background-color: white;}#sk-container-id-1 div.sk-label label {font-family: monospace;font-weight: bold;display: inline-block;line-height: 1.2em;}#sk-container-id-1 div.sk-label-container {text-align: center;}#sk-container-id-1 div.sk-container {/* jupyter's `normalize.less` sets `[hidden] { display: none; }` but bootstrap.min.css set `[hidden] { display: none !important; }` so we also need the `!important` here to be able to override the default hidden behavior on the sphinx rendered scikit-learn.org. See: https://github.com/scikit-learn/scikit-learn/issues/21755 */display: inline-block !important;position: relative;}#sk-container-id-1 div.sk-text-repr-fallback {display: none;}</style><div id=\"sk-container-id-1\" class=\"sk-top-container\"><div class=\"sk-text-repr-fallback\"><pre>OneHotEncoder(handle_unknown=&#x27;ignore&#x27;, sparse=False, sparse_output=False)</pre><b>In a Jupyter environment, please rerun this cell to show the HTML representation or trust the notebook. <br />On GitHub, the HTML representation is unable to render, please try loading this page with nbviewer.org.</b></div><div class=\"sk-container\" hidden><div class=\"sk-item\"><div class=\"sk-estimator sk-toggleable\"><input class=\"sk-toggleable__control sk-hidden--visually\" id=\"sk-estimator-id-1\" type=\"checkbox\" checked><label for=\"sk-estimator-id-1\" class=\"sk-toggleable__label sk-toggleable__label-arrow\">OneHotEncoder</label><div class=\"sk-toggleable__content\"><pre>OneHotEncoder(handle_unknown=&#x27;ignore&#x27;, sparse=False, sparse_output=False)</pre></div></div></div></div></div>"
      ],
      "text/plain": [
       "OneHotEncoder(handle_unknown='ignore', sparse=False, sparse_output=False)"
      ]
     },
     "execution_count": 12,
     "metadata": {},
     "output_type": "execute_result"
    }
   ],
   "source": [
    "from sklearn.preprocessing import OneHotEncoder\n",
    "encoder = OneHotEncoder(handle_unknown='ignore',sparse=False)\n",
    "encoder.fit(df_train[columns_categorical]) # finds new column names(all categories)"
   ]
  },
  {
   "cell_type": "code",
   "execution_count": 13,
   "id": "9744e0ca",
   "metadata": {},
   "outputs": [],
   "source": [
    "new_columns = list(encoder.get_feature_names_out())"
   ]
  },
  {
   "cell_type": "code",
   "execution_count": 14,
   "id": "bd243452",
   "metadata": {},
   "outputs": [
    {
     "data": {
      "text/plain": [
       "252"
      ]
     },
     "execution_count": 14,
     "metadata": {},
     "output_type": "execute_result"
    }
   ],
   "source": [
    "len(new_columns)"
   ]
  },
  {
   "cell_type": "code",
   "execution_count": 15,
   "id": "027391da",
   "metadata": {},
   "outputs": [
    {
     "name": "stderr",
     "output_type": "stream",
     "text": [
      "C:\\Users\\samwa\\AppData\\Local\\Temp\\ipykernel_13900\\1602800353.py:1: PerformanceWarning: DataFrame is highly fragmented.  This is usually the result of calling `frame.insert` many times, which has poor performance.  Consider joining all columns at once using pd.concat(axis=1) instead. To get a de-fragmented frame, use `newframe = frame.copy()`\n",
      "  df_train[new_columns] = encoder.transform(df_train[columns_categorical])\n",
      "C:\\Users\\samwa\\AppData\\Local\\Temp\\ipykernel_13900\\1602800353.py:1: PerformanceWarning: DataFrame is highly fragmented.  This is usually the result of calling `frame.insert` many times, which has poor performance.  Consider joining all columns at once using pd.concat(axis=1) instead. To get a de-fragmented frame, use `newframe = frame.copy()`\n",
      "  df_train[new_columns] = encoder.transform(df_train[columns_categorical])\n",
      "C:\\Users\\samwa\\AppData\\Local\\Temp\\ipykernel_13900\\1602800353.py:1: PerformanceWarning: DataFrame is highly fragmented.  This is usually the result of calling `frame.insert` many times, which has poor performance.  Consider joining all columns at once using pd.concat(axis=1) instead. To get a de-fragmented frame, use `newframe = frame.copy()`\n",
      "  df_train[new_columns] = encoder.transform(df_train[columns_categorical])\n",
      "C:\\Users\\samwa\\AppData\\Local\\Temp\\ipykernel_13900\\1602800353.py:1: PerformanceWarning: DataFrame is highly fragmented.  This is usually the result of calling `frame.insert` many times, which has poor performance.  Consider joining all columns at once using pd.concat(axis=1) instead. To get a de-fragmented frame, use `newframe = frame.copy()`\n",
      "  df_train[new_columns] = encoder.transform(df_train[columns_categorical])\n",
      "C:\\Users\\samwa\\AppData\\Local\\Temp\\ipykernel_13900\\1602800353.py:1: PerformanceWarning: DataFrame is highly fragmented.  This is usually the result of calling `frame.insert` many times, which has poor performance.  Consider joining all columns at once using pd.concat(axis=1) instead. To get a de-fragmented frame, use `newframe = frame.copy()`\n",
      "  df_train[new_columns] = encoder.transform(df_train[columns_categorical])\n",
      "C:\\Users\\samwa\\AppData\\Local\\Temp\\ipykernel_13900\\1602800353.py:1: PerformanceWarning: DataFrame is highly fragmented.  This is usually the result of calling `frame.insert` many times, which has poor performance.  Consider joining all columns at once using pd.concat(axis=1) instead. To get a de-fragmented frame, use `newframe = frame.copy()`\n",
      "  df_train[new_columns] = encoder.transform(df_train[columns_categorical])\n",
      "C:\\Users\\samwa\\AppData\\Local\\Temp\\ipykernel_13900\\1602800353.py:1: PerformanceWarning: DataFrame is highly fragmented.  This is usually the result of calling `frame.insert` many times, which has poor performance.  Consider joining all columns at once using pd.concat(axis=1) instead. To get a de-fragmented frame, use `newframe = frame.copy()`\n",
      "  df_train[new_columns] = encoder.transform(df_train[columns_categorical])\n",
      "C:\\Users\\samwa\\AppData\\Local\\Temp\\ipykernel_13900\\1602800353.py:1: PerformanceWarning: DataFrame is highly fragmented.  This is usually the result of calling `frame.insert` many times, which has poor performance.  Consider joining all columns at once using pd.concat(axis=1) instead. To get a de-fragmented frame, use `newframe = frame.copy()`\n",
      "  df_train[new_columns] = encoder.transform(df_train[columns_categorical])\n",
      "C:\\Users\\samwa\\AppData\\Local\\Temp\\ipykernel_13900\\1602800353.py:1: PerformanceWarning: DataFrame is highly fragmented.  This is usually the result of calling `frame.insert` many times, which has poor performance.  Consider joining all columns at once using pd.concat(axis=1) instead. To get a de-fragmented frame, use `newframe = frame.copy()`\n",
      "  df_train[new_columns] = encoder.transform(df_train[columns_categorical])\n",
      "C:\\Users\\samwa\\AppData\\Local\\Temp\\ipykernel_13900\\1602800353.py:1: PerformanceWarning: DataFrame is highly fragmented.  This is usually the result of calling `frame.insert` many times, which has poor performance.  Consider joining all columns at once using pd.concat(axis=1) instead. To get a de-fragmented frame, use `newframe = frame.copy()`\n",
      "  df_train[new_columns] = encoder.transform(df_train[columns_categorical])\n",
      "C:\\Users\\samwa\\AppData\\Local\\Temp\\ipykernel_13900\\1602800353.py:1: PerformanceWarning: DataFrame is highly fragmented.  This is usually the result of calling `frame.insert` many times, which has poor performance.  Consider joining all columns at once using pd.concat(axis=1) instead. To get a de-fragmented frame, use `newframe = frame.copy()`\n",
      "  df_train[new_columns] = encoder.transform(df_train[columns_categorical])\n",
      "C:\\Users\\samwa\\AppData\\Local\\Temp\\ipykernel_13900\\1602800353.py:1: PerformanceWarning: DataFrame is highly fragmented.  This is usually the result of calling `frame.insert` many times, which has poor performance.  Consider joining all columns at once using pd.concat(axis=1) instead. To get a de-fragmented frame, use `newframe = frame.copy()`\n",
      "  df_train[new_columns] = encoder.transform(df_train[columns_categorical])\n",
      "C:\\Users\\samwa\\AppData\\Local\\Temp\\ipykernel_13900\\1602800353.py:1: PerformanceWarning: DataFrame is highly fragmented.  This is usually the result of calling `frame.insert` many times, which has poor performance.  Consider joining all columns at once using pd.concat(axis=1) instead. To get a de-fragmented frame, use `newframe = frame.copy()`\n",
      "  df_train[new_columns] = encoder.transform(df_train[columns_categorical])\n",
      "C:\\Users\\samwa\\AppData\\Local\\Temp\\ipykernel_13900\\1602800353.py:1: PerformanceWarning: DataFrame is highly fragmented.  This is usually the result of calling `frame.insert` many times, which has poor performance.  Consider joining all columns at once using pd.concat(axis=1) instead. To get a de-fragmented frame, use `newframe = frame.copy()`\n",
      "  df_train[new_columns] = encoder.transform(df_train[columns_categorical])\n",
      "C:\\Users\\samwa\\AppData\\Local\\Temp\\ipykernel_13900\\1602800353.py:1: PerformanceWarning: DataFrame is highly fragmented.  This is usually the result of calling `frame.insert` many times, which has poor performance.  Consider joining all columns at once using pd.concat(axis=1) instead. To get a de-fragmented frame, use `newframe = frame.copy()`\n",
      "  df_train[new_columns] = encoder.transform(df_train[columns_categorical])\n",
      "C:\\Users\\samwa\\AppData\\Local\\Temp\\ipykernel_13900\\1602800353.py:1: PerformanceWarning: DataFrame is highly fragmented.  This is usually the result of calling `frame.insert` many times, which has poor performance.  Consider joining all columns at once using pd.concat(axis=1) instead. To get a de-fragmented frame, use `newframe = frame.copy()`\n",
      "  df_train[new_columns] = encoder.transform(df_train[columns_categorical])\n",
      "C:\\Users\\samwa\\AppData\\Local\\Temp\\ipykernel_13900\\1602800353.py:1: PerformanceWarning: DataFrame is highly fragmented.  This is usually the result of calling `frame.insert` many times, which has poor performance.  Consider joining all columns at once using pd.concat(axis=1) instead. To get a de-fragmented frame, use `newframe = frame.copy()`\n",
      "  df_train[new_columns] = encoder.transform(df_train[columns_categorical])\n",
      "C:\\Users\\samwa\\AppData\\Local\\Temp\\ipykernel_13900\\1602800353.py:1: PerformanceWarning: DataFrame is highly fragmented.  This is usually the result of calling `frame.insert` many times, which has poor performance.  Consider joining all columns at once using pd.concat(axis=1) instead. To get a de-fragmented frame, use `newframe = frame.copy()`\n",
      "  df_train[new_columns] = encoder.transform(df_train[columns_categorical])\n",
      "C:\\Users\\samwa\\AppData\\Local\\Temp\\ipykernel_13900\\1602800353.py:1: PerformanceWarning: DataFrame is highly fragmented.  This is usually the result of calling `frame.insert` many times, which has poor performance.  Consider joining all columns at once using pd.concat(axis=1) instead. To get a de-fragmented frame, use `newframe = frame.copy()`\n",
      "  df_train[new_columns] = encoder.transform(df_train[columns_categorical])\n",
      "C:\\Users\\samwa\\AppData\\Local\\Temp\\ipykernel_13900\\1602800353.py:1: PerformanceWarning: DataFrame is highly fragmented.  This is usually the result of calling `frame.insert` many times, which has poor performance.  Consider joining all columns at once using pd.concat(axis=1) instead. To get a de-fragmented frame, use `newframe = frame.copy()`\n",
      "  df_train[new_columns] = encoder.transform(df_train[columns_categorical])\n",
      "C:\\Users\\samwa\\AppData\\Local\\Temp\\ipykernel_13900\\1602800353.py:1: PerformanceWarning: DataFrame is highly fragmented.  This is usually the result of calling `frame.insert` many times, which has poor performance.  Consider joining all columns at once using pd.concat(axis=1) instead. To get a de-fragmented frame, use `newframe = frame.copy()`\n",
      "  df_train[new_columns] = encoder.transform(df_train[columns_categorical])\n",
      "C:\\Users\\samwa\\AppData\\Local\\Temp\\ipykernel_13900\\1602800353.py:1: PerformanceWarning: DataFrame is highly fragmented.  This is usually the result of calling `frame.insert` many times, which has poor performance.  Consider joining all columns at once using pd.concat(axis=1) instead. To get a de-fragmented frame, use `newframe = frame.copy()`\n",
      "  df_train[new_columns] = encoder.transform(df_train[columns_categorical])\n",
      "C:\\Users\\samwa\\AppData\\Local\\Temp\\ipykernel_13900\\1602800353.py:1: PerformanceWarning: DataFrame is highly fragmented.  This is usually the result of calling `frame.insert` many times, which has poor performance.  Consider joining all columns at once using pd.concat(axis=1) instead. To get a de-fragmented frame, use `newframe = frame.copy()`\n",
      "  df_train[new_columns] = encoder.transform(df_train[columns_categorical])\n",
      "C:\\Users\\samwa\\AppData\\Local\\Temp\\ipykernel_13900\\1602800353.py:1: PerformanceWarning: DataFrame is highly fragmented.  This is usually the result of calling `frame.insert` many times, which has poor performance.  Consider joining all columns at once using pd.concat(axis=1) instead. To get a de-fragmented frame, use `newframe = frame.copy()`\n",
      "  df_train[new_columns] = encoder.transform(df_train[columns_categorical])\n",
      "C:\\Users\\samwa\\AppData\\Local\\Temp\\ipykernel_13900\\1602800353.py:1: PerformanceWarning: DataFrame is highly fragmented.  This is usually the result of calling `frame.insert` many times, which has poor performance.  Consider joining all columns at once using pd.concat(axis=1) instead. To get a de-fragmented frame, use `newframe = frame.copy()`\n",
      "  df_train[new_columns] = encoder.transform(df_train[columns_categorical])\n",
      "C:\\Users\\samwa\\AppData\\Local\\Temp\\ipykernel_13900\\1602800353.py:1: PerformanceWarning: DataFrame is highly fragmented.  This is usually the result of calling `frame.insert` many times, which has poor performance.  Consider joining all columns at once using pd.concat(axis=1) instead. To get a de-fragmented frame, use `newframe = frame.copy()`\n",
      "  df_train[new_columns] = encoder.transform(df_train[columns_categorical])\n",
      "C:\\Users\\samwa\\AppData\\Local\\Temp\\ipykernel_13900\\1602800353.py:1: PerformanceWarning: DataFrame is highly fragmented.  This is usually the result of calling `frame.insert` many times, which has poor performance.  Consider joining all columns at once using pd.concat(axis=1) instead. To get a de-fragmented frame, use `newframe = frame.copy()`\n",
      "  df_train[new_columns] = encoder.transform(df_train[columns_categorical])\n",
      "C:\\Users\\samwa\\AppData\\Local\\Temp\\ipykernel_13900\\1602800353.py:1: PerformanceWarning: DataFrame is highly fragmented.  This is usually the result of calling `frame.insert` many times, which has poor performance.  Consider joining all columns at once using pd.concat(axis=1) instead. To get a de-fragmented frame, use `newframe = frame.copy()`\n",
      "  df_train[new_columns] = encoder.transform(df_train[columns_categorical])\n",
      "C:\\Users\\samwa\\AppData\\Local\\Temp\\ipykernel_13900\\1602800353.py:1: PerformanceWarning: DataFrame is highly fragmented.  This is usually the result of calling `frame.insert` many times, which has poor performance.  Consider joining all columns at once using pd.concat(axis=1) instead. To get a de-fragmented frame, use `newframe = frame.copy()`\n",
      "  df_train[new_columns] = encoder.transform(df_train[columns_categorical])\n",
      "C:\\Users\\samwa\\AppData\\Local\\Temp\\ipykernel_13900\\1602800353.py:1: PerformanceWarning: DataFrame is highly fragmented.  This is usually the result of calling `frame.insert` many times, which has poor performance.  Consider joining all columns at once using pd.concat(axis=1) instead. To get a de-fragmented frame, use `newframe = frame.copy()`\n",
      "  df_train[new_columns] = encoder.transform(df_train[columns_categorical])\n",
      "C:\\Users\\samwa\\AppData\\Local\\Temp\\ipykernel_13900\\1602800353.py:1: PerformanceWarning: DataFrame is highly fragmented.  This is usually the result of calling `frame.insert` many times, which has poor performance.  Consider joining all columns at once using pd.concat(axis=1) instead. To get a de-fragmented frame, use `newframe = frame.copy()`\n",
      "  df_train[new_columns] = encoder.transform(df_train[columns_categorical])\n",
      "C:\\Users\\samwa\\AppData\\Local\\Temp\\ipykernel_13900\\1602800353.py:1: PerformanceWarning: DataFrame is highly fragmented.  This is usually the result of calling `frame.insert` many times, which has poor performance.  Consider joining all columns at once using pd.concat(axis=1) instead. To get a de-fragmented frame, use `newframe = frame.copy()`\n",
      "  df_train[new_columns] = encoder.transform(df_train[columns_categorical])\n",
      "C:\\Users\\samwa\\AppData\\Local\\Temp\\ipykernel_13900\\1602800353.py:1: PerformanceWarning: DataFrame is highly fragmented.  This is usually the result of calling `frame.insert` many times, which has poor performance.  Consider joining all columns at once using pd.concat(axis=1) instead. To get a de-fragmented frame, use `newframe = frame.copy()`\n",
      "  df_train[new_columns] = encoder.transform(df_train[columns_categorical])\n",
      "C:\\Users\\samwa\\AppData\\Local\\Temp\\ipykernel_13900\\1602800353.py:1: PerformanceWarning: DataFrame is highly fragmented.  This is usually the result of calling `frame.insert` many times, which has poor performance.  Consider joining all columns at once using pd.concat(axis=1) instead. To get a de-fragmented frame, use `newframe = frame.copy()`\n",
      "  df_train[new_columns] = encoder.transform(df_train[columns_categorical])\n",
      "C:\\Users\\samwa\\AppData\\Local\\Temp\\ipykernel_13900\\1602800353.py:1: PerformanceWarning: DataFrame is highly fragmented.  This is usually the result of calling `frame.insert` many times, which has poor performance.  Consider joining all columns at once using pd.concat(axis=1) instead. To get a de-fragmented frame, use `newframe = frame.copy()`\n",
      "  df_train[new_columns] = encoder.transform(df_train[columns_categorical])\n",
      "C:\\Users\\samwa\\AppData\\Local\\Temp\\ipykernel_13900\\1602800353.py:1: PerformanceWarning: DataFrame is highly fragmented.  This is usually the result of calling `frame.insert` many times, which has poor performance.  Consider joining all columns at once using pd.concat(axis=1) instead. To get a de-fragmented frame, use `newframe = frame.copy()`\n",
      "  df_train[new_columns] = encoder.transform(df_train[columns_categorical])\n",
      "C:\\Users\\samwa\\AppData\\Local\\Temp\\ipykernel_13900\\1602800353.py:1: PerformanceWarning: DataFrame is highly fragmented.  This is usually the result of calling `frame.insert` many times, which has poor performance.  Consider joining all columns at once using pd.concat(axis=1) instead. To get a de-fragmented frame, use `newframe = frame.copy()`\n",
      "  df_train[new_columns] = encoder.transform(df_train[columns_categorical])\n",
      "C:\\Users\\samwa\\AppData\\Local\\Temp\\ipykernel_13900\\1602800353.py:1: PerformanceWarning: DataFrame is highly fragmented.  This is usually the result of calling `frame.insert` many times, which has poor performance.  Consider joining all columns at once using pd.concat(axis=1) instead. To get a de-fragmented frame, use `newframe = frame.copy()`\n",
      "  df_train[new_columns] = encoder.transform(df_train[columns_categorical])\n",
      "C:\\Users\\samwa\\AppData\\Local\\Temp\\ipykernel_13900\\1602800353.py:1: PerformanceWarning: DataFrame is highly fragmented.  This is usually the result of calling `frame.insert` many times, which has poor performance.  Consider joining all columns at once using pd.concat(axis=1) instead. To get a de-fragmented frame, use `newframe = frame.copy()`\n",
      "  df_train[new_columns] = encoder.transform(df_train[columns_categorical])\n",
      "C:\\Users\\samwa\\AppData\\Local\\Temp\\ipykernel_13900\\1602800353.py:1: PerformanceWarning: DataFrame is highly fragmented.  This is usually the result of calling `frame.insert` many times, which has poor performance.  Consider joining all columns at once using pd.concat(axis=1) instead. To get a de-fragmented frame, use `newframe = frame.copy()`\n",
      "  df_train[new_columns] = encoder.transform(df_train[columns_categorical])\n",
      "C:\\Users\\samwa\\AppData\\Local\\Temp\\ipykernel_13900\\1602800353.py:1: PerformanceWarning: DataFrame is highly fragmented.  This is usually the result of calling `frame.insert` many times, which has poor performance.  Consider joining all columns at once using pd.concat(axis=1) instead. To get a de-fragmented frame, use `newframe = frame.copy()`\n",
      "  df_train[new_columns] = encoder.transform(df_train[columns_categorical])\n",
      "C:\\Users\\samwa\\AppData\\Local\\Temp\\ipykernel_13900\\1602800353.py:1: PerformanceWarning: DataFrame is highly fragmented.  This is usually the result of calling `frame.insert` many times, which has poor performance.  Consider joining all columns at once using pd.concat(axis=1) instead. To get a de-fragmented frame, use `newframe = frame.copy()`\n",
      "  df_train[new_columns] = encoder.transform(df_train[columns_categorical])\n",
      "C:\\Users\\samwa\\AppData\\Local\\Temp\\ipykernel_13900\\1602800353.py:1: PerformanceWarning: DataFrame is highly fragmented.  This is usually the result of calling `frame.insert` many times, which has poor performance.  Consider joining all columns at once using pd.concat(axis=1) instead. To get a de-fragmented frame, use `newframe = frame.copy()`\n",
      "  df_train[new_columns] = encoder.transform(df_train[columns_categorical])\n",
      "C:\\Users\\samwa\\AppData\\Local\\Temp\\ipykernel_13900\\1602800353.py:1: PerformanceWarning: DataFrame is highly fragmented.  This is usually the result of calling `frame.insert` many times, which has poor performance.  Consider joining all columns at once using pd.concat(axis=1) instead. To get a de-fragmented frame, use `newframe = frame.copy()`\n",
      "  df_train[new_columns] = encoder.transform(df_train[columns_categorical])\n",
      "C:\\Users\\samwa\\AppData\\Local\\Temp\\ipykernel_13900\\1602800353.py:1: PerformanceWarning: DataFrame is highly fragmented.  This is usually the result of calling `frame.insert` many times, which has poor performance.  Consider joining all columns at once using pd.concat(axis=1) instead. To get a de-fragmented frame, use `newframe = frame.copy()`\n",
      "  df_train[new_columns] = encoder.transform(df_train[columns_categorical])\n",
      "C:\\Users\\samwa\\AppData\\Local\\Temp\\ipykernel_13900\\1602800353.py:1: PerformanceWarning: DataFrame is highly fragmented.  This is usually the result of calling `frame.insert` many times, which has poor performance.  Consider joining all columns at once using pd.concat(axis=1) instead. To get a de-fragmented frame, use `newframe = frame.copy()`\n",
      "  df_train[new_columns] = encoder.transform(df_train[columns_categorical])\n",
      "C:\\Users\\samwa\\AppData\\Local\\Temp\\ipykernel_13900\\1602800353.py:1: PerformanceWarning: DataFrame is highly fragmented.  This is usually the result of calling `frame.insert` many times, which has poor performance.  Consider joining all columns at once using pd.concat(axis=1) instead. To get a de-fragmented frame, use `newframe = frame.copy()`\n",
      "  df_train[new_columns] = encoder.transform(df_train[columns_categorical])\n",
      "C:\\Users\\samwa\\AppData\\Local\\Temp\\ipykernel_13900\\1602800353.py:1: PerformanceWarning: DataFrame is highly fragmented.  This is usually the result of calling `frame.insert` many times, which has poor performance.  Consider joining all columns at once using pd.concat(axis=1) instead. To get a de-fragmented frame, use `newframe = frame.copy()`\n",
      "  df_train[new_columns] = encoder.transform(df_train[columns_categorical])\n",
      "C:\\Users\\samwa\\AppData\\Local\\Temp\\ipykernel_13900\\1602800353.py:1: PerformanceWarning: DataFrame is highly fragmented.  This is usually the result of calling `frame.insert` many times, which has poor performance.  Consider joining all columns at once using pd.concat(axis=1) instead. To get a de-fragmented frame, use `newframe = frame.copy()`\n",
      "  df_train[new_columns] = encoder.transform(df_train[columns_categorical])\n",
      "C:\\Users\\samwa\\AppData\\Local\\Temp\\ipykernel_13900\\1602800353.py:1: PerformanceWarning: DataFrame is highly fragmented.  This is usually the result of calling `frame.insert` many times, which has poor performance.  Consider joining all columns at once using pd.concat(axis=1) instead. To get a de-fragmented frame, use `newframe = frame.copy()`\n",
      "  df_train[new_columns] = encoder.transform(df_train[columns_categorical])\n",
      "C:\\Users\\samwa\\AppData\\Local\\Temp\\ipykernel_13900\\1602800353.py:1: PerformanceWarning: DataFrame is highly fragmented.  This is usually the result of calling `frame.insert` many times, which has poor performance.  Consider joining all columns at once using pd.concat(axis=1) instead. To get a de-fragmented frame, use `newframe = frame.copy()`\n",
      "  df_train[new_columns] = encoder.transform(df_train[columns_categorical])\n",
      "C:\\Users\\samwa\\AppData\\Local\\Temp\\ipykernel_13900\\1602800353.py:1: PerformanceWarning: DataFrame is highly fragmented.  This is usually the result of calling `frame.insert` many times, which has poor performance.  Consider joining all columns at once using pd.concat(axis=1) instead. To get a de-fragmented frame, use `newframe = frame.copy()`\n",
      "  df_train[new_columns] = encoder.transform(df_train[columns_categorical])\n",
      "C:\\Users\\samwa\\AppData\\Local\\Temp\\ipykernel_13900\\1602800353.py:1: PerformanceWarning: DataFrame is highly fragmented.  This is usually the result of calling `frame.insert` many times, which has poor performance.  Consider joining all columns at once using pd.concat(axis=1) instead. To get a de-fragmented frame, use `newframe = frame.copy()`\n",
      "  df_train[new_columns] = encoder.transform(df_train[columns_categorical])\n",
      "C:\\Users\\samwa\\AppData\\Local\\Temp\\ipykernel_13900\\1602800353.py:1: PerformanceWarning: DataFrame is highly fragmented.  This is usually the result of calling `frame.insert` many times, which has poor performance.  Consider joining all columns at once using pd.concat(axis=1) instead. To get a de-fragmented frame, use `newframe = frame.copy()`\n",
      "  df_train[new_columns] = encoder.transform(df_train[columns_categorical])\n",
      "C:\\Users\\samwa\\AppData\\Local\\Temp\\ipykernel_13900\\1602800353.py:1: PerformanceWarning: DataFrame is highly fragmented.  This is usually the result of calling `frame.insert` many times, which has poor performance.  Consider joining all columns at once using pd.concat(axis=1) instead. To get a de-fragmented frame, use `newframe = frame.copy()`\n",
      "  df_train[new_columns] = encoder.transform(df_train[columns_categorical])\n",
      "C:\\Users\\samwa\\AppData\\Local\\Temp\\ipykernel_13900\\1602800353.py:1: PerformanceWarning: DataFrame is highly fragmented.  This is usually the result of calling `frame.insert` many times, which has poor performance.  Consider joining all columns at once using pd.concat(axis=1) instead. To get a de-fragmented frame, use `newframe = frame.copy()`\n",
      "  df_train[new_columns] = encoder.transform(df_train[columns_categorical])\n",
      "C:\\Users\\samwa\\AppData\\Local\\Temp\\ipykernel_13900\\1602800353.py:1: PerformanceWarning: DataFrame is highly fragmented.  This is usually the result of calling `frame.insert` many times, which has poor performance.  Consider joining all columns at once using pd.concat(axis=1) instead. To get a de-fragmented frame, use `newframe = frame.copy()`\n",
      "  df_train[new_columns] = encoder.transform(df_train[columns_categorical])\n",
      "C:\\Users\\samwa\\AppData\\Local\\Temp\\ipykernel_13900\\1602800353.py:1: PerformanceWarning: DataFrame is highly fragmented.  This is usually the result of calling `frame.insert` many times, which has poor performance.  Consider joining all columns at once using pd.concat(axis=1) instead. To get a de-fragmented frame, use `newframe = frame.copy()`\n",
      "  df_train[new_columns] = encoder.transform(df_train[columns_categorical])\n",
      "C:\\Users\\samwa\\AppData\\Local\\Temp\\ipykernel_13900\\1602800353.py:1: PerformanceWarning: DataFrame is highly fragmented.  This is usually the result of calling `frame.insert` many times, which has poor performance.  Consider joining all columns at once using pd.concat(axis=1) instead. To get a de-fragmented frame, use `newframe = frame.copy()`\n",
      "  df_train[new_columns] = encoder.transform(df_train[columns_categorical])\n",
      "C:\\Users\\samwa\\AppData\\Local\\Temp\\ipykernel_13900\\1602800353.py:1: PerformanceWarning: DataFrame is highly fragmented.  This is usually the result of calling `frame.insert` many times, which has poor performance.  Consider joining all columns at once using pd.concat(axis=1) instead. To get a de-fragmented frame, use `newframe = frame.copy()`\n",
      "  df_train[new_columns] = encoder.transform(df_train[columns_categorical])\n",
      "C:\\Users\\samwa\\AppData\\Local\\Temp\\ipykernel_13900\\1602800353.py:1: PerformanceWarning: DataFrame is highly fragmented.  This is usually the result of calling `frame.insert` many times, which has poor performance.  Consider joining all columns at once using pd.concat(axis=1) instead. To get a de-fragmented frame, use `newframe = frame.copy()`\n",
      "  df_train[new_columns] = encoder.transform(df_train[columns_categorical])\n",
      "C:\\Users\\samwa\\AppData\\Local\\Temp\\ipykernel_13900\\1602800353.py:1: PerformanceWarning: DataFrame is highly fragmented.  This is usually the result of calling `frame.insert` many times, which has poor performance.  Consider joining all columns at once using pd.concat(axis=1) instead. To get a de-fragmented frame, use `newframe = frame.copy()`\n",
      "  df_train[new_columns] = encoder.transform(df_train[columns_categorical])\n",
      "C:\\Users\\samwa\\AppData\\Local\\Temp\\ipykernel_13900\\1602800353.py:1: PerformanceWarning: DataFrame is highly fragmented.  This is usually the result of calling `frame.insert` many times, which has poor performance.  Consider joining all columns at once using pd.concat(axis=1) instead. To get a de-fragmented frame, use `newframe = frame.copy()`\n",
      "  df_train[new_columns] = encoder.transform(df_train[columns_categorical])\n",
      "C:\\Users\\samwa\\AppData\\Local\\Temp\\ipykernel_13900\\1602800353.py:1: PerformanceWarning: DataFrame is highly fragmented.  This is usually the result of calling `frame.insert` many times, which has poor performance.  Consider joining all columns at once using pd.concat(axis=1) instead. To get a de-fragmented frame, use `newframe = frame.copy()`\n",
      "  df_train[new_columns] = encoder.transform(df_train[columns_categorical])\n",
      "C:\\Users\\samwa\\AppData\\Local\\Temp\\ipykernel_13900\\1602800353.py:1: PerformanceWarning: DataFrame is highly fragmented.  This is usually the result of calling `frame.insert` many times, which has poor performance.  Consider joining all columns at once using pd.concat(axis=1) instead. To get a de-fragmented frame, use `newframe = frame.copy()`\n",
      "  df_train[new_columns] = encoder.transform(df_train[columns_categorical])\n",
      "C:\\Users\\samwa\\AppData\\Local\\Temp\\ipykernel_13900\\1602800353.py:1: PerformanceWarning: DataFrame is highly fragmented.  This is usually the result of calling `frame.insert` many times, which has poor performance.  Consider joining all columns at once using pd.concat(axis=1) instead. To get a de-fragmented frame, use `newframe = frame.copy()`\n",
      "  df_train[new_columns] = encoder.transform(df_train[columns_categorical])\n",
      "C:\\Users\\samwa\\AppData\\Local\\Temp\\ipykernel_13900\\1602800353.py:1: PerformanceWarning: DataFrame is highly fragmented.  This is usually the result of calling `frame.insert` many times, which has poor performance.  Consider joining all columns at once using pd.concat(axis=1) instead. To get a de-fragmented frame, use `newframe = frame.copy()`\n",
      "  df_train[new_columns] = encoder.transform(df_train[columns_categorical])\n",
      "C:\\Users\\samwa\\AppData\\Local\\Temp\\ipykernel_13900\\1602800353.py:1: PerformanceWarning: DataFrame is highly fragmented.  This is usually the result of calling `frame.insert` many times, which has poor performance.  Consider joining all columns at once using pd.concat(axis=1) instead. To get a de-fragmented frame, use `newframe = frame.copy()`\n",
      "  df_train[new_columns] = encoder.transform(df_train[columns_categorical])\n",
      "C:\\Users\\samwa\\AppData\\Local\\Temp\\ipykernel_13900\\1602800353.py:1: PerformanceWarning: DataFrame is highly fragmented.  This is usually the result of calling `frame.insert` many times, which has poor performance.  Consider joining all columns at once using pd.concat(axis=1) instead. To get a de-fragmented frame, use `newframe = frame.copy()`\n",
      "  df_train[new_columns] = encoder.transform(df_train[columns_categorical])\n",
      "C:\\Users\\samwa\\AppData\\Local\\Temp\\ipykernel_13900\\1602800353.py:1: PerformanceWarning: DataFrame is highly fragmented.  This is usually the result of calling `frame.insert` many times, which has poor performance.  Consider joining all columns at once using pd.concat(axis=1) instead. To get a de-fragmented frame, use `newframe = frame.copy()`\n",
      "  df_train[new_columns] = encoder.transform(df_train[columns_categorical])\n",
      "C:\\Users\\samwa\\AppData\\Local\\Temp\\ipykernel_13900\\1602800353.py:1: PerformanceWarning: DataFrame is highly fragmented.  This is usually the result of calling `frame.insert` many times, which has poor performance.  Consider joining all columns at once using pd.concat(axis=1) instead. To get a de-fragmented frame, use `newframe = frame.copy()`\n",
      "  df_train[new_columns] = encoder.transform(df_train[columns_categorical])\n",
      "C:\\Users\\samwa\\AppData\\Local\\Temp\\ipykernel_13900\\1602800353.py:1: PerformanceWarning: DataFrame is highly fragmented.  This is usually the result of calling `frame.insert` many times, which has poor performance.  Consider joining all columns at once using pd.concat(axis=1) instead. To get a de-fragmented frame, use `newframe = frame.copy()`\n",
      "  df_train[new_columns] = encoder.transform(df_train[columns_categorical])\n",
      "C:\\Users\\samwa\\AppData\\Local\\Temp\\ipykernel_13900\\1602800353.py:1: PerformanceWarning: DataFrame is highly fragmented.  This is usually the result of calling `frame.insert` many times, which has poor performance.  Consider joining all columns at once using pd.concat(axis=1) instead. To get a de-fragmented frame, use `newframe = frame.copy()`\n",
      "  df_train[new_columns] = encoder.transform(df_train[columns_categorical])\n",
      "C:\\Users\\samwa\\AppData\\Local\\Temp\\ipykernel_13900\\1602800353.py:1: PerformanceWarning: DataFrame is highly fragmented.  This is usually the result of calling `frame.insert` many times, which has poor performance.  Consider joining all columns at once using pd.concat(axis=1) instead. To get a de-fragmented frame, use `newframe = frame.copy()`\n",
      "  df_train[new_columns] = encoder.transform(df_train[columns_categorical])\n",
      "C:\\Users\\samwa\\AppData\\Local\\Temp\\ipykernel_13900\\1602800353.py:1: PerformanceWarning: DataFrame is highly fragmented.  This is usually the result of calling `frame.insert` many times, which has poor performance.  Consider joining all columns at once using pd.concat(axis=1) instead. To get a de-fragmented frame, use `newframe = frame.copy()`\n",
      "  df_train[new_columns] = encoder.transform(df_train[columns_categorical])\n",
      "C:\\Users\\samwa\\AppData\\Local\\Temp\\ipykernel_13900\\1602800353.py:1: PerformanceWarning: DataFrame is highly fragmented.  This is usually the result of calling `frame.insert` many times, which has poor performance.  Consider joining all columns at once using pd.concat(axis=1) instead. To get a de-fragmented frame, use `newframe = frame.copy()`\n",
      "  df_train[new_columns] = encoder.transform(df_train[columns_categorical])\n",
      "C:\\Users\\samwa\\AppData\\Local\\Temp\\ipykernel_13900\\1602800353.py:1: PerformanceWarning: DataFrame is highly fragmented.  This is usually the result of calling `frame.insert` many times, which has poor performance.  Consider joining all columns at once using pd.concat(axis=1) instead. To get a de-fragmented frame, use `newframe = frame.copy()`\n",
      "  df_train[new_columns] = encoder.transform(df_train[columns_categorical])\n",
      "C:\\Users\\samwa\\AppData\\Local\\Temp\\ipykernel_13900\\1602800353.py:1: PerformanceWarning: DataFrame is highly fragmented.  This is usually the result of calling `frame.insert` many times, which has poor performance.  Consider joining all columns at once using pd.concat(axis=1) instead. To get a de-fragmented frame, use `newframe = frame.copy()`\n",
      "  df_train[new_columns] = encoder.transform(df_train[columns_categorical])\n",
      "C:\\Users\\samwa\\AppData\\Local\\Temp\\ipykernel_13900\\1602800353.py:1: PerformanceWarning: DataFrame is highly fragmented.  This is usually the result of calling `frame.insert` many times, which has poor performance.  Consider joining all columns at once using pd.concat(axis=1) instead. To get a de-fragmented frame, use `newframe = frame.copy()`\n",
      "  df_train[new_columns] = encoder.transform(df_train[columns_categorical])\n",
      "C:\\Users\\samwa\\AppData\\Local\\Temp\\ipykernel_13900\\1602800353.py:1: PerformanceWarning: DataFrame is highly fragmented.  This is usually the result of calling `frame.insert` many times, which has poor performance.  Consider joining all columns at once using pd.concat(axis=1) instead. To get a de-fragmented frame, use `newframe = frame.copy()`\n",
      "  df_train[new_columns] = encoder.transform(df_train[columns_categorical])\n",
      "C:\\Users\\samwa\\AppData\\Local\\Temp\\ipykernel_13900\\1602800353.py:1: PerformanceWarning: DataFrame is highly fragmented.  This is usually the result of calling `frame.insert` many times, which has poor performance.  Consider joining all columns at once using pd.concat(axis=1) instead. To get a de-fragmented frame, use `newframe = frame.copy()`\n",
      "  df_train[new_columns] = encoder.transform(df_train[columns_categorical])\n",
      "C:\\Users\\samwa\\AppData\\Local\\Temp\\ipykernel_13900\\1602800353.py:1: PerformanceWarning: DataFrame is highly fragmented.  This is usually the result of calling `frame.insert` many times, which has poor performance.  Consider joining all columns at once using pd.concat(axis=1) instead. To get a de-fragmented frame, use `newframe = frame.copy()`\n",
      "  df_train[new_columns] = encoder.transform(df_train[columns_categorical])\n",
      "C:\\Users\\samwa\\AppData\\Local\\Temp\\ipykernel_13900\\1602800353.py:1: PerformanceWarning: DataFrame is highly fragmented.  This is usually the result of calling `frame.insert` many times, which has poor performance.  Consider joining all columns at once using pd.concat(axis=1) instead. To get a de-fragmented frame, use `newframe = frame.copy()`\n",
      "  df_train[new_columns] = encoder.transform(df_train[columns_categorical])\n",
      "C:\\Users\\samwa\\AppData\\Local\\Temp\\ipykernel_13900\\1602800353.py:1: PerformanceWarning: DataFrame is highly fragmented.  This is usually the result of calling `frame.insert` many times, which has poor performance.  Consider joining all columns at once using pd.concat(axis=1) instead. To get a de-fragmented frame, use `newframe = frame.copy()`\n",
      "  df_train[new_columns] = encoder.transform(df_train[columns_categorical])\n",
      "C:\\Users\\samwa\\AppData\\Local\\Temp\\ipykernel_13900\\1602800353.py:1: PerformanceWarning: DataFrame is highly fragmented.  This is usually the result of calling `frame.insert` many times, which has poor performance.  Consider joining all columns at once using pd.concat(axis=1) instead. To get a de-fragmented frame, use `newframe = frame.copy()`\n",
      "  df_train[new_columns] = encoder.transform(df_train[columns_categorical])\n",
      "C:\\Users\\samwa\\AppData\\Local\\Temp\\ipykernel_13900\\1602800353.py:1: PerformanceWarning: DataFrame is highly fragmented.  This is usually the result of calling `frame.insert` many times, which has poor performance.  Consider joining all columns at once using pd.concat(axis=1) instead. To get a de-fragmented frame, use `newframe = frame.copy()`\n",
      "  df_train[new_columns] = encoder.transform(df_train[columns_categorical])\n",
      "C:\\Users\\samwa\\AppData\\Local\\Temp\\ipykernel_13900\\1602800353.py:1: PerformanceWarning: DataFrame is highly fragmented.  This is usually the result of calling `frame.insert` many times, which has poor performance.  Consider joining all columns at once using pd.concat(axis=1) instead. To get a de-fragmented frame, use `newframe = frame.copy()`\n",
      "  df_train[new_columns] = encoder.transform(df_train[columns_categorical])\n",
      "C:\\Users\\samwa\\AppData\\Local\\Temp\\ipykernel_13900\\1602800353.py:1: PerformanceWarning: DataFrame is highly fragmented.  This is usually the result of calling `frame.insert` many times, which has poor performance.  Consider joining all columns at once using pd.concat(axis=1) instead. To get a de-fragmented frame, use `newframe = frame.copy()`\n",
      "  df_train[new_columns] = encoder.transform(df_train[columns_categorical])\n",
      "C:\\Users\\samwa\\AppData\\Local\\Temp\\ipykernel_13900\\1602800353.py:1: PerformanceWarning: DataFrame is highly fragmented.  This is usually the result of calling `frame.insert` many times, which has poor performance.  Consider joining all columns at once using pd.concat(axis=1) instead. To get a de-fragmented frame, use `newframe = frame.copy()`\n",
      "  df_train[new_columns] = encoder.transform(df_train[columns_categorical])\n",
      "C:\\Users\\samwa\\AppData\\Local\\Temp\\ipykernel_13900\\1602800353.py:1: PerformanceWarning: DataFrame is highly fragmented.  This is usually the result of calling `frame.insert` many times, which has poor performance.  Consider joining all columns at once using pd.concat(axis=1) instead. To get a de-fragmented frame, use `newframe = frame.copy()`\n",
      "  df_train[new_columns] = encoder.transform(df_train[columns_categorical])\n",
      "C:\\Users\\samwa\\AppData\\Local\\Temp\\ipykernel_13900\\1602800353.py:1: PerformanceWarning: DataFrame is highly fragmented.  This is usually the result of calling `frame.insert` many times, which has poor performance.  Consider joining all columns at once using pd.concat(axis=1) instead. To get a de-fragmented frame, use `newframe = frame.copy()`\n",
      "  df_train[new_columns] = encoder.transform(df_train[columns_categorical])\n",
      "C:\\Users\\samwa\\AppData\\Local\\Temp\\ipykernel_13900\\1602800353.py:1: PerformanceWarning: DataFrame is highly fragmented.  This is usually the result of calling `frame.insert` many times, which has poor performance.  Consider joining all columns at once using pd.concat(axis=1) instead. To get a de-fragmented frame, use `newframe = frame.copy()`\n",
      "  df_train[new_columns] = encoder.transform(df_train[columns_categorical])\n",
      "C:\\Users\\samwa\\AppData\\Local\\Temp\\ipykernel_13900\\1602800353.py:1: PerformanceWarning: DataFrame is highly fragmented.  This is usually the result of calling `frame.insert` many times, which has poor performance.  Consider joining all columns at once using pd.concat(axis=1) instead. To get a de-fragmented frame, use `newframe = frame.copy()`\n",
      "  df_train[new_columns] = encoder.transform(df_train[columns_categorical])\n",
      "C:\\Users\\samwa\\AppData\\Local\\Temp\\ipykernel_13900\\1602800353.py:1: PerformanceWarning: DataFrame is highly fragmented.  This is usually the result of calling `frame.insert` many times, which has poor performance.  Consider joining all columns at once using pd.concat(axis=1) instead. To get a de-fragmented frame, use `newframe = frame.copy()`\n",
      "  df_train[new_columns] = encoder.transform(df_train[columns_categorical])\n",
      "C:\\Users\\samwa\\AppData\\Local\\Temp\\ipykernel_13900\\1602800353.py:1: PerformanceWarning: DataFrame is highly fragmented.  This is usually the result of calling `frame.insert` many times, which has poor performance.  Consider joining all columns at once using pd.concat(axis=1) instead. To get a de-fragmented frame, use `newframe = frame.copy()`\n",
      "  df_train[new_columns] = encoder.transform(df_train[columns_categorical])\n",
      "C:\\Users\\samwa\\AppData\\Local\\Temp\\ipykernel_13900\\1602800353.py:1: PerformanceWarning: DataFrame is highly fragmented.  This is usually the result of calling `frame.insert` many times, which has poor performance.  Consider joining all columns at once using pd.concat(axis=1) instead. To get a de-fragmented frame, use `newframe = frame.copy()`\n",
      "  df_train[new_columns] = encoder.transform(df_train[columns_categorical])\n",
      "C:\\Users\\samwa\\AppData\\Local\\Temp\\ipykernel_13900\\1602800353.py:1: PerformanceWarning: DataFrame is highly fragmented.  This is usually the result of calling `frame.insert` many times, which has poor performance.  Consider joining all columns at once using pd.concat(axis=1) instead. To get a de-fragmented frame, use `newframe = frame.copy()`\n",
      "  df_train[new_columns] = encoder.transform(df_train[columns_categorical])\n",
      "C:\\Users\\samwa\\AppData\\Local\\Temp\\ipykernel_13900\\1602800353.py:1: PerformanceWarning: DataFrame is highly fragmented.  This is usually the result of calling `frame.insert` many times, which has poor performance.  Consider joining all columns at once using pd.concat(axis=1) instead. To get a de-fragmented frame, use `newframe = frame.copy()`\n",
      "  df_train[new_columns] = encoder.transform(df_train[columns_categorical])\n",
      "C:\\Users\\samwa\\AppData\\Local\\Temp\\ipykernel_13900\\1602800353.py:1: PerformanceWarning: DataFrame is highly fragmented.  This is usually the result of calling `frame.insert` many times, which has poor performance.  Consider joining all columns at once using pd.concat(axis=1) instead. To get a de-fragmented frame, use `newframe = frame.copy()`\n",
      "  df_train[new_columns] = encoder.transform(df_train[columns_categorical])\n",
      "C:\\Users\\samwa\\AppData\\Local\\Temp\\ipykernel_13900\\1602800353.py:1: PerformanceWarning: DataFrame is highly fragmented.  This is usually the result of calling `frame.insert` many times, which has poor performance.  Consider joining all columns at once using pd.concat(axis=1) instead. To get a de-fragmented frame, use `newframe = frame.copy()`\n",
      "  df_train[new_columns] = encoder.transform(df_train[columns_categorical])\n",
      "C:\\Users\\samwa\\AppData\\Local\\Temp\\ipykernel_13900\\1602800353.py:1: PerformanceWarning: DataFrame is highly fragmented.  This is usually the result of calling `frame.insert` many times, which has poor performance.  Consider joining all columns at once using pd.concat(axis=1) instead. To get a de-fragmented frame, use `newframe = frame.copy()`\n",
      "  df_train[new_columns] = encoder.transform(df_train[columns_categorical])\n",
      "C:\\Users\\samwa\\AppData\\Local\\Temp\\ipykernel_13900\\1602800353.py:1: PerformanceWarning: DataFrame is highly fragmented.  This is usually the result of calling `frame.insert` many times, which has poor performance.  Consider joining all columns at once using pd.concat(axis=1) instead. To get a de-fragmented frame, use `newframe = frame.copy()`\n",
      "  df_train[new_columns] = encoder.transform(df_train[columns_categorical])\n",
      "C:\\Users\\samwa\\AppData\\Local\\Temp\\ipykernel_13900\\1602800353.py:1: PerformanceWarning: DataFrame is highly fragmented.  This is usually the result of calling `frame.insert` many times, which has poor performance.  Consider joining all columns at once using pd.concat(axis=1) instead. To get a de-fragmented frame, use `newframe = frame.copy()`\n",
      "  df_train[new_columns] = encoder.transform(df_train[columns_categorical])\n",
      "C:\\Users\\samwa\\AppData\\Local\\Temp\\ipykernel_13900\\1602800353.py:1: PerformanceWarning: DataFrame is highly fragmented.  This is usually the result of calling `frame.insert` many times, which has poor performance.  Consider joining all columns at once using pd.concat(axis=1) instead. To get a de-fragmented frame, use `newframe = frame.copy()`\n",
      "  df_train[new_columns] = encoder.transform(df_train[columns_categorical])\n",
      "C:\\Users\\samwa\\AppData\\Local\\Temp\\ipykernel_13900\\1602800353.py:1: PerformanceWarning: DataFrame is highly fragmented.  This is usually the result of calling `frame.insert` many times, which has poor performance.  Consider joining all columns at once using pd.concat(axis=1) instead. To get a de-fragmented frame, use `newframe = frame.copy()`\n",
      "  df_train[new_columns] = encoder.transform(df_train[columns_categorical])\n",
      "C:\\Users\\samwa\\AppData\\Local\\Temp\\ipykernel_13900\\1602800353.py:1: PerformanceWarning: DataFrame is highly fragmented.  This is usually the result of calling `frame.insert` many times, which has poor performance.  Consider joining all columns at once using pd.concat(axis=1) instead. To get a de-fragmented frame, use `newframe = frame.copy()`\n",
      "  df_train[new_columns] = encoder.transform(df_train[columns_categorical])\n",
      "C:\\Users\\samwa\\AppData\\Local\\Temp\\ipykernel_13900\\1602800353.py:1: PerformanceWarning: DataFrame is highly fragmented.  This is usually the result of calling `frame.insert` many times, which has poor performance.  Consider joining all columns at once using pd.concat(axis=1) instead. To get a de-fragmented frame, use `newframe = frame.copy()`\n",
      "  df_train[new_columns] = encoder.transform(df_train[columns_categorical])\n",
      "C:\\Users\\samwa\\AppData\\Local\\Temp\\ipykernel_13900\\1602800353.py:1: PerformanceWarning: DataFrame is highly fragmented.  This is usually the result of calling `frame.insert` many times, which has poor performance.  Consider joining all columns at once using pd.concat(axis=1) instead. To get a de-fragmented frame, use `newframe = frame.copy()`\n",
      "  df_train[new_columns] = encoder.transform(df_train[columns_categorical])\n",
      "C:\\Users\\samwa\\AppData\\Local\\Temp\\ipykernel_13900\\1602800353.py:1: PerformanceWarning: DataFrame is highly fragmented.  This is usually the result of calling `frame.insert` many times, which has poor performance.  Consider joining all columns at once using pd.concat(axis=1) instead. To get a de-fragmented frame, use `newframe = frame.copy()`\n",
      "  df_train[new_columns] = encoder.transform(df_train[columns_categorical])\n",
      "C:\\Users\\samwa\\AppData\\Local\\Temp\\ipykernel_13900\\1602800353.py:1: PerformanceWarning: DataFrame is highly fragmented.  This is usually the result of calling `frame.insert` many times, which has poor performance.  Consider joining all columns at once using pd.concat(axis=1) instead. To get a de-fragmented frame, use `newframe = frame.copy()`\n",
      "  df_train[new_columns] = encoder.transform(df_train[columns_categorical])\n",
      "C:\\Users\\samwa\\AppData\\Local\\Temp\\ipykernel_13900\\1602800353.py:1: PerformanceWarning: DataFrame is highly fragmented.  This is usually the result of calling `frame.insert` many times, which has poor performance.  Consider joining all columns at once using pd.concat(axis=1) instead. To get a de-fragmented frame, use `newframe = frame.copy()`\n",
      "  df_train[new_columns] = encoder.transform(df_train[columns_categorical])\n",
      "C:\\Users\\samwa\\AppData\\Local\\Temp\\ipykernel_13900\\1602800353.py:1: PerformanceWarning: DataFrame is highly fragmented.  This is usually the result of calling `frame.insert` many times, which has poor performance.  Consider joining all columns at once using pd.concat(axis=1) instead. To get a de-fragmented frame, use `newframe = frame.copy()`\n",
      "  df_train[new_columns] = encoder.transform(df_train[columns_categorical])\n",
      "C:\\Users\\samwa\\AppData\\Local\\Temp\\ipykernel_13900\\1602800353.py:1: PerformanceWarning: DataFrame is highly fragmented.  This is usually the result of calling `frame.insert` many times, which has poor performance.  Consider joining all columns at once using pd.concat(axis=1) instead. To get a de-fragmented frame, use `newframe = frame.copy()`\n",
      "  df_train[new_columns] = encoder.transform(df_train[columns_categorical])\n",
      "C:\\Users\\samwa\\AppData\\Local\\Temp\\ipykernel_13900\\1602800353.py:1: PerformanceWarning: DataFrame is highly fragmented.  This is usually the result of calling `frame.insert` many times, which has poor performance.  Consider joining all columns at once using pd.concat(axis=1) instead. To get a de-fragmented frame, use `newframe = frame.copy()`\n",
      "  df_train[new_columns] = encoder.transform(df_train[columns_categorical])\n",
      "C:\\Users\\samwa\\AppData\\Local\\Temp\\ipykernel_13900\\1602800353.py:1: PerformanceWarning: DataFrame is highly fragmented.  This is usually the result of calling `frame.insert` many times, which has poor performance.  Consider joining all columns at once using pd.concat(axis=1) instead. To get a de-fragmented frame, use `newframe = frame.copy()`\n",
      "  df_train[new_columns] = encoder.transform(df_train[columns_categorical])\n",
      "C:\\Users\\samwa\\AppData\\Local\\Temp\\ipykernel_13900\\1602800353.py:1: PerformanceWarning: DataFrame is highly fragmented.  This is usually the result of calling `frame.insert` many times, which has poor performance.  Consider joining all columns at once using pd.concat(axis=1) instead. To get a de-fragmented frame, use `newframe = frame.copy()`\n",
      "  df_train[new_columns] = encoder.transform(df_train[columns_categorical])\n",
      "C:\\Users\\samwa\\AppData\\Local\\Temp\\ipykernel_13900\\1602800353.py:1: PerformanceWarning: DataFrame is highly fragmented.  This is usually the result of calling `frame.insert` many times, which has poor performance.  Consider joining all columns at once using pd.concat(axis=1) instead. To get a de-fragmented frame, use `newframe = frame.copy()`\n",
      "  df_train[new_columns] = encoder.transform(df_train[columns_categorical])\n",
      "C:\\Users\\samwa\\AppData\\Local\\Temp\\ipykernel_13900\\1602800353.py:1: PerformanceWarning: DataFrame is highly fragmented.  This is usually the result of calling `frame.insert` many times, which has poor performance.  Consider joining all columns at once using pd.concat(axis=1) instead. To get a de-fragmented frame, use `newframe = frame.copy()`\n",
      "  df_train[new_columns] = encoder.transform(df_train[columns_categorical])\n",
      "C:\\Users\\samwa\\AppData\\Local\\Temp\\ipykernel_13900\\1602800353.py:1: PerformanceWarning: DataFrame is highly fragmented.  This is usually the result of calling `frame.insert` many times, which has poor performance.  Consider joining all columns at once using pd.concat(axis=1) instead. To get a de-fragmented frame, use `newframe = frame.copy()`\n",
      "  df_train[new_columns] = encoder.transform(df_train[columns_categorical])\n",
      "C:\\Users\\samwa\\AppData\\Local\\Temp\\ipykernel_13900\\1602800353.py:1: PerformanceWarning: DataFrame is highly fragmented.  This is usually the result of calling `frame.insert` many times, which has poor performance.  Consider joining all columns at once using pd.concat(axis=1) instead. To get a de-fragmented frame, use `newframe = frame.copy()`\n",
      "  df_train[new_columns] = encoder.transform(df_train[columns_categorical])\n",
      "C:\\Users\\samwa\\AppData\\Local\\Temp\\ipykernel_13900\\1602800353.py:1: PerformanceWarning: DataFrame is highly fragmented.  This is usually the result of calling `frame.insert` many times, which has poor performance.  Consider joining all columns at once using pd.concat(axis=1) instead. To get a de-fragmented frame, use `newframe = frame.copy()`\n",
      "  df_train[new_columns] = encoder.transform(df_train[columns_categorical])\n",
      "C:\\Users\\samwa\\AppData\\Local\\Temp\\ipykernel_13900\\1602800353.py:1: PerformanceWarning: DataFrame is highly fragmented.  This is usually the result of calling `frame.insert` many times, which has poor performance.  Consider joining all columns at once using pd.concat(axis=1) instead. To get a de-fragmented frame, use `newframe = frame.copy()`\n",
      "  df_train[new_columns] = encoder.transform(df_train[columns_categorical])\n",
      "C:\\Users\\samwa\\AppData\\Local\\Temp\\ipykernel_13900\\1602800353.py:1: PerformanceWarning: DataFrame is highly fragmented.  This is usually the result of calling `frame.insert` many times, which has poor performance.  Consider joining all columns at once using pd.concat(axis=1) instead. To get a de-fragmented frame, use `newframe = frame.copy()`\n",
      "  df_train[new_columns] = encoder.transform(df_train[columns_categorical])\n",
      "C:\\Users\\samwa\\AppData\\Local\\Temp\\ipykernel_13900\\1602800353.py:1: PerformanceWarning: DataFrame is highly fragmented.  This is usually the result of calling `frame.insert` many times, which has poor performance.  Consider joining all columns at once using pd.concat(axis=1) instead. To get a de-fragmented frame, use `newframe = frame.copy()`\n",
      "  df_train[new_columns] = encoder.transform(df_train[columns_categorical])\n",
      "C:\\Users\\samwa\\AppData\\Local\\Temp\\ipykernel_13900\\1602800353.py:1: PerformanceWarning: DataFrame is highly fragmented.  This is usually the result of calling `frame.insert` many times, which has poor performance.  Consider joining all columns at once using pd.concat(axis=1) instead. To get a de-fragmented frame, use `newframe = frame.copy()`\n",
      "  df_train[new_columns] = encoder.transform(df_train[columns_categorical])\n",
      "C:\\Users\\samwa\\AppData\\Local\\Temp\\ipykernel_13900\\1602800353.py:1: PerformanceWarning: DataFrame is highly fragmented.  This is usually the result of calling `frame.insert` many times, which has poor performance.  Consider joining all columns at once using pd.concat(axis=1) instead. To get a de-fragmented frame, use `newframe = frame.copy()`\n",
      "  df_train[new_columns] = encoder.transform(df_train[columns_categorical])\n",
      "C:\\Users\\samwa\\AppData\\Local\\Temp\\ipykernel_13900\\1602800353.py:1: PerformanceWarning: DataFrame is highly fragmented.  This is usually the result of calling `frame.insert` many times, which has poor performance.  Consider joining all columns at once using pd.concat(axis=1) instead. To get a de-fragmented frame, use `newframe = frame.copy()`\n",
      "  df_train[new_columns] = encoder.transform(df_train[columns_categorical])\n",
      "C:\\Users\\samwa\\AppData\\Local\\Temp\\ipykernel_13900\\1602800353.py:1: PerformanceWarning: DataFrame is highly fragmented.  This is usually the result of calling `frame.insert` many times, which has poor performance.  Consider joining all columns at once using pd.concat(axis=1) instead. To get a de-fragmented frame, use `newframe = frame.copy()`\n",
      "  df_train[new_columns] = encoder.transform(df_train[columns_categorical])\n",
      "C:\\Users\\samwa\\AppData\\Local\\Temp\\ipykernel_13900\\1602800353.py:1: PerformanceWarning: DataFrame is highly fragmented.  This is usually the result of calling `frame.insert` many times, which has poor performance.  Consider joining all columns at once using pd.concat(axis=1) instead. To get a de-fragmented frame, use `newframe = frame.copy()`\n",
      "  df_train[new_columns] = encoder.transform(df_train[columns_categorical])\n",
      "C:\\Users\\samwa\\AppData\\Local\\Temp\\ipykernel_13900\\1602800353.py:1: PerformanceWarning: DataFrame is highly fragmented.  This is usually the result of calling `frame.insert` many times, which has poor performance.  Consider joining all columns at once using pd.concat(axis=1) instead. To get a de-fragmented frame, use `newframe = frame.copy()`\n",
      "  df_train[new_columns] = encoder.transform(df_train[columns_categorical])\n",
      "C:\\Users\\samwa\\AppData\\Local\\Temp\\ipykernel_13900\\1602800353.py:1: PerformanceWarning: DataFrame is highly fragmented.  This is usually the result of calling `frame.insert` many times, which has poor performance.  Consider joining all columns at once using pd.concat(axis=1) instead. To get a de-fragmented frame, use `newframe = frame.copy()`\n",
      "  df_train[new_columns] = encoder.transform(df_train[columns_categorical])\n",
      "C:\\Users\\samwa\\AppData\\Local\\Temp\\ipykernel_13900\\1602800353.py:1: PerformanceWarning: DataFrame is highly fragmented.  This is usually the result of calling `frame.insert` many times, which has poor performance.  Consider joining all columns at once using pd.concat(axis=1) instead. To get a de-fragmented frame, use `newframe = frame.copy()`\n",
      "  df_train[new_columns] = encoder.transform(df_train[columns_categorical])\n",
      "C:\\Users\\samwa\\AppData\\Local\\Temp\\ipykernel_13900\\1602800353.py:1: PerformanceWarning: DataFrame is highly fragmented.  This is usually the result of calling `frame.insert` many times, which has poor performance.  Consider joining all columns at once using pd.concat(axis=1) instead. To get a de-fragmented frame, use `newframe = frame.copy()`\n",
      "  df_train[new_columns] = encoder.transform(df_train[columns_categorical])\n",
      "C:\\Users\\samwa\\AppData\\Local\\Temp\\ipykernel_13900\\1602800353.py:1: PerformanceWarning: DataFrame is highly fragmented.  This is usually the result of calling `frame.insert` many times, which has poor performance.  Consider joining all columns at once using pd.concat(axis=1) instead. To get a de-fragmented frame, use `newframe = frame.copy()`\n",
      "  df_train[new_columns] = encoder.transform(df_train[columns_categorical])\n",
      "C:\\Users\\samwa\\AppData\\Local\\Temp\\ipykernel_13900\\1602800353.py:1: PerformanceWarning: DataFrame is highly fragmented.  This is usually the result of calling `frame.insert` many times, which has poor performance.  Consider joining all columns at once using pd.concat(axis=1) instead. To get a de-fragmented frame, use `newframe = frame.copy()`\n",
      "  df_train[new_columns] = encoder.transform(df_train[columns_categorical])\n",
      "C:\\Users\\samwa\\AppData\\Local\\Temp\\ipykernel_13900\\1602800353.py:1: PerformanceWarning: DataFrame is highly fragmented.  This is usually the result of calling `frame.insert` many times, which has poor performance.  Consider joining all columns at once using pd.concat(axis=1) instead. To get a de-fragmented frame, use `newframe = frame.copy()`\n",
      "  df_train[new_columns] = encoder.transform(df_train[columns_categorical])\n",
      "C:\\Users\\samwa\\AppData\\Local\\Temp\\ipykernel_13900\\1602800353.py:1: PerformanceWarning: DataFrame is highly fragmented.  This is usually the result of calling `frame.insert` many times, which has poor performance.  Consider joining all columns at once using pd.concat(axis=1) instead. To get a de-fragmented frame, use `newframe = frame.copy()`\n",
      "  df_train[new_columns] = encoder.transform(df_train[columns_categorical])\n",
      "C:\\Users\\samwa\\AppData\\Local\\Temp\\ipykernel_13900\\1602800353.py:1: PerformanceWarning: DataFrame is highly fragmented.  This is usually the result of calling `frame.insert` many times, which has poor performance.  Consider joining all columns at once using pd.concat(axis=1) instead. To get a de-fragmented frame, use `newframe = frame.copy()`\n",
      "  df_train[new_columns] = encoder.transform(df_train[columns_categorical])\n",
      "C:\\Users\\samwa\\AppData\\Local\\Temp\\ipykernel_13900\\1602800353.py:1: PerformanceWarning: DataFrame is highly fragmented.  This is usually the result of calling `frame.insert` many times, which has poor performance.  Consider joining all columns at once using pd.concat(axis=1) instead. To get a de-fragmented frame, use `newframe = frame.copy()`\n",
      "  df_train[new_columns] = encoder.transform(df_train[columns_categorical])\n",
      "C:\\Users\\samwa\\AppData\\Local\\Temp\\ipykernel_13900\\1602800353.py:1: PerformanceWarning: DataFrame is highly fragmented.  This is usually the result of calling `frame.insert` many times, which has poor performance.  Consider joining all columns at once using pd.concat(axis=1) instead. To get a de-fragmented frame, use `newframe = frame.copy()`\n",
      "  df_train[new_columns] = encoder.transform(df_train[columns_categorical])\n",
      "C:\\Users\\samwa\\AppData\\Local\\Temp\\ipykernel_13900\\1602800353.py:1: PerformanceWarning: DataFrame is highly fragmented.  This is usually the result of calling `frame.insert` many times, which has poor performance.  Consider joining all columns at once using pd.concat(axis=1) instead. To get a de-fragmented frame, use `newframe = frame.copy()`\n",
      "  df_train[new_columns] = encoder.transform(df_train[columns_categorical])\n",
      "C:\\Users\\samwa\\AppData\\Local\\Temp\\ipykernel_13900\\1602800353.py:1: PerformanceWarning: DataFrame is highly fragmented.  This is usually the result of calling `frame.insert` many times, which has poor performance.  Consider joining all columns at once using pd.concat(axis=1) instead. To get a de-fragmented frame, use `newframe = frame.copy()`\n",
      "  df_train[new_columns] = encoder.transform(df_train[columns_categorical])\n",
      "C:\\Users\\samwa\\AppData\\Local\\Temp\\ipykernel_13900\\1602800353.py:1: PerformanceWarning: DataFrame is highly fragmented.  This is usually the result of calling `frame.insert` many times, which has poor performance.  Consider joining all columns at once using pd.concat(axis=1) instead. To get a de-fragmented frame, use `newframe = frame.copy()`\n",
      "  df_train[new_columns] = encoder.transform(df_train[columns_categorical])\n",
      "C:\\Users\\samwa\\AppData\\Local\\Temp\\ipykernel_13900\\1602800353.py:1: PerformanceWarning: DataFrame is highly fragmented.  This is usually the result of calling `frame.insert` many times, which has poor performance.  Consider joining all columns at once using pd.concat(axis=1) instead. To get a de-fragmented frame, use `newframe = frame.copy()`\n",
      "  df_train[new_columns] = encoder.transform(df_train[columns_categorical])\n",
      "C:\\Users\\samwa\\AppData\\Local\\Temp\\ipykernel_13900\\1602800353.py:1: PerformanceWarning: DataFrame is highly fragmented.  This is usually the result of calling `frame.insert` many times, which has poor performance.  Consider joining all columns at once using pd.concat(axis=1) instead. To get a de-fragmented frame, use `newframe = frame.copy()`\n",
      "  df_train[new_columns] = encoder.transform(df_train[columns_categorical])\n",
      "C:\\Users\\samwa\\AppData\\Local\\Temp\\ipykernel_13900\\1602800353.py:1: PerformanceWarning: DataFrame is highly fragmented.  This is usually the result of calling `frame.insert` many times, which has poor performance.  Consider joining all columns at once using pd.concat(axis=1) instead. To get a de-fragmented frame, use `newframe = frame.copy()`\n",
      "  df_train[new_columns] = encoder.transform(df_train[columns_categorical])\n",
      "C:\\Users\\samwa\\AppData\\Local\\Temp\\ipykernel_13900\\1602800353.py:1: PerformanceWarning: DataFrame is highly fragmented.  This is usually the result of calling `frame.insert` many times, which has poor performance.  Consider joining all columns at once using pd.concat(axis=1) instead. To get a de-fragmented frame, use `newframe = frame.copy()`\n",
      "  df_train[new_columns] = encoder.transform(df_train[columns_categorical])\n",
      "C:\\Users\\samwa\\AppData\\Local\\Temp\\ipykernel_13900\\1602800353.py:1: PerformanceWarning: DataFrame is highly fragmented.  This is usually the result of calling `frame.insert` many times, which has poor performance.  Consider joining all columns at once using pd.concat(axis=1) instead. To get a de-fragmented frame, use `newframe = frame.copy()`\n",
      "  df_train[new_columns] = encoder.transform(df_train[columns_categorical])\n",
      "C:\\Users\\samwa\\AppData\\Local\\Temp\\ipykernel_13900\\1602800353.py:1: PerformanceWarning: DataFrame is highly fragmented.  This is usually the result of calling `frame.insert` many times, which has poor performance.  Consider joining all columns at once using pd.concat(axis=1) instead. To get a de-fragmented frame, use `newframe = frame.copy()`\n",
      "  df_train[new_columns] = encoder.transform(df_train[columns_categorical])\n",
      "C:\\Users\\samwa\\AppData\\Local\\Temp\\ipykernel_13900\\1602800353.py:1: PerformanceWarning: DataFrame is highly fragmented.  This is usually the result of calling `frame.insert` many times, which has poor performance.  Consider joining all columns at once using pd.concat(axis=1) instead. To get a de-fragmented frame, use `newframe = frame.copy()`\n",
      "  df_train[new_columns] = encoder.transform(df_train[columns_categorical])\n",
      "C:\\Users\\samwa\\AppData\\Local\\Temp\\ipykernel_13900\\1602800353.py:1: PerformanceWarning: DataFrame is highly fragmented.  This is usually the result of calling `frame.insert` many times, which has poor performance.  Consider joining all columns at once using pd.concat(axis=1) instead. To get a de-fragmented frame, use `newframe = frame.copy()`\n",
      "  df_train[new_columns] = encoder.transform(df_train[columns_categorical])\n",
      "C:\\Users\\samwa\\AppData\\Local\\Temp\\ipykernel_13900\\1602800353.py:1: PerformanceWarning: DataFrame is highly fragmented.  This is usually the result of calling `frame.insert` many times, which has poor performance.  Consider joining all columns at once using pd.concat(axis=1) instead. To get a de-fragmented frame, use `newframe = frame.copy()`\n",
      "  df_train[new_columns] = encoder.transform(df_train[columns_categorical])\n",
      "C:\\Users\\samwa\\AppData\\Local\\Temp\\ipykernel_13900\\1602800353.py:1: PerformanceWarning: DataFrame is highly fragmented.  This is usually the result of calling `frame.insert` many times, which has poor performance.  Consider joining all columns at once using pd.concat(axis=1) instead. To get a de-fragmented frame, use `newframe = frame.copy()`\n",
      "  df_train[new_columns] = encoder.transform(df_train[columns_categorical])\n",
      "C:\\Users\\samwa\\AppData\\Local\\Temp\\ipykernel_13900\\1602800353.py:1: PerformanceWarning: DataFrame is highly fragmented.  This is usually the result of calling `frame.insert` many times, which has poor performance.  Consider joining all columns at once using pd.concat(axis=1) instead. To get a de-fragmented frame, use `newframe = frame.copy()`\n",
      "  df_train[new_columns] = encoder.transform(df_train[columns_categorical])\n",
      "C:\\Users\\samwa\\AppData\\Local\\Temp\\ipykernel_13900\\1602800353.py:1: PerformanceWarning: DataFrame is highly fragmented.  This is usually the result of calling `frame.insert` many times, which has poor performance.  Consider joining all columns at once using pd.concat(axis=1) instead. To get a de-fragmented frame, use `newframe = frame.copy()`\n",
      "  df_train[new_columns] = encoder.transform(df_train[columns_categorical])\n"
     ]
    },
    {
     "name": "stderr",
     "output_type": "stream",
     "text": [
      "C:\\Users\\samwa\\AppData\\Local\\Temp\\ipykernel_13900\\1602800353.py:2: PerformanceWarning: DataFrame is highly fragmented.  This is usually the result of calling `frame.insert` many times, which has poor performance.  Consider joining all columns at once using pd.concat(axis=1) instead. To get a de-fragmented frame, use `newframe = frame.copy()`\n",
      "  df_test[new_columns] = encoder.transform(df_test[columns_categorical])\n",
      "C:\\Users\\samwa\\AppData\\Local\\Temp\\ipykernel_13900\\1602800353.py:2: PerformanceWarning: DataFrame is highly fragmented.  This is usually the result of calling `frame.insert` many times, which has poor performance.  Consider joining all columns at once using pd.concat(axis=1) instead. To get a de-fragmented frame, use `newframe = frame.copy()`\n",
      "  df_test[new_columns] = encoder.transform(df_test[columns_categorical])\n",
      "C:\\Users\\samwa\\AppData\\Local\\Temp\\ipykernel_13900\\1602800353.py:2: PerformanceWarning: DataFrame is highly fragmented.  This is usually the result of calling `frame.insert` many times, which has poor performance.  Consider joining all columns at once using pd.concat(axis=1) instead. To get a de-fragmented frame, use `newframe = frame.copy()`\n",
      "  df_test[new_columns] = encoder.transform(df_test[columns_categorical])\n",
      "C:\\Users\\samwa\\AppData\\Local\\Temp\\ipykernel_13900\\1602800353.py:2: PerformanceWarning: DataFrame is highly fragmented.  This is usually the result of calling `frame.insert` many times, which has poor performance.  Consider joining all columns at once using pd.concat(axis=1) instead. To get a de-fragmented frame, use `newframe = frame.copy()`\n",
      "  df_test[new_columns] = encoder.transform(df_test[columns_categorical])\n",
      "C:\\Users\\samwa\\AppData\\Local\\Temp\\ipykernel_13900\\1602800353.py:2: PerformanceWarning: DataFrame is highly fragmented.  This is usually the result of calling `frame.insert` many times, which has poor performance.  Consider joining all columns at once using pd.concat(axis=1) instead. To get a de-fragmented frame, use `newframe = frame.copy()`\n",
      "  df_test[new_columns] = encoder.transform(df_test[columns_categorical])\n",
      "C:\\Users\\samwa\\AppData\\Local\\Temp\\ipykernel_13900\\1602800353.py:2: PerformanceWarning: DataFrame is highly fragmented.  This is usually the result of calling `frame.insert` many times, which has poor performance.  Consider joining all columns at once using pd.concat(axis=1) instead. To get a de-fragmented frame, use `newframe = frame.copy()`\n",
      "  df_test[new_columns] = encoder.transform(df_test[columns_categorical])\n",
      "C:\\Users\\samwa\\AppData\\Local\\Temp\\ipykernel_13900\\1602800353.py:2: PerformanceWarning: DataFrame is highly fragmented.  This is usually the result of calling `frame.insert` many times, which has poor performance.  Consider joining all columns at once using pd.concat(axis=1) instead. To get a de-fragmented frame, use `newframe = frame.copy()`\n",
      "  df_test[new_columns] = encoder.transform(df_test[columns_categorical])\n",
      "C:\\Users\\samwa\\AppData\\Local\\Temp\\ipykernel_13900\\1602800353.py:2: PerformanceWarning: DataFrame is highly fragmented.  This is usually the result of calling `frame.insert` many times, which has poor performance.  Consider joining all columns at once using pd.concat(axis=1) instead. To get a de-fragmented frame, use `newframe = frame.copy()`\n",
      "  df_test[new_columns] = encoder.transform(df_test[columns_categorical])\n",
      "C:\\Users\\samwa\\AppData\\Local\\Temp\\ipykernel_13900\\1602800353.py:2: PerformanceWarning: DataFrame is highly fragmented.  This is usually the result of calling `frame.insert` many times, which has poor performance.  Consider joining all columns at once using pd.concat(axis=1) instead. To get a de-fragmented frame, use `newframe = frame.copy()`\n",
      "  df_test[new_columns] = encoder.transform(df_test[columns_categorical])\n",
      "C:\\Users\\samwa\\AppData\\Local\\Temp\\ipykernel_13900\\1602800353.py:2: PerformanceWarning: DataFrame is highly fragmented.  This is usually the result of calling `frame.insert` many times, which has poor performance.  Consider joining all columns at once using pd.concat(axis=1) instead. To get a de-fragmented frame, use `newframe = frame.copy()`\n",
      "  df_test[new_columns] = encoder.transform(df_test[columns_categorical])\n",
      "C:\\Users\\samwa\\AppData\\Local\\Temp\\ipykernel_13900\\1602800353.py:2: PerformanceWarning: DataFrame is highly fragmented.  This is usually the result of calling `frame.insert` many times, which has poor performance.  Consider joining all columns at once using pd.concat(axis=1) instead. To get a de-fragmented frame, use `newframe = frame.copy()`\n",
      "  df_test[new_columns] = encoder.transform(df_test[columns_categorical])\n",
      "C:\\Users\\samwa\\AppData\\Local\\Temp\\ipykernel_13900\\1602800353.py:2: PerformanceWarning: DataFrame is highly fragmented.  This is usually the result of calling `frame.insert` many times, which has poor performance.  Consider joining all columns at once using pd.concat(axis=1) instead. To get a de-fragmented frame, use `newframe = frame.copy()`\n",
      "  df_test[new_columns] = encoder.transform(df_test[columns_categorical])\n",
      "C:\\Users\\samwa\\AppData\\Local\\Temp\\ipykernel_13900\\1602800353.py:2: PerformanceWarning: DataFrame is highly fragmented.  This is usually the result of calling `frame.insert` many times, which has poor performance.  Consider joining all columns at once using pd.concat(axis=1) instead. To get a de-fragmented frame, use `newframe = frame.copy()`\n",
      "  df_test[new_columns] = encoder.transform(df_test[columns_categorical])\n",
      "C:\\Users\\samwa\\AppData\\Local\\Temp\\ipykernel_13900\\1602800353.py:2: PerformanceWarning: DataFrame is highly fragmented.  This is usually the result of calling `frame.insert` many times, which has poor performance.  Consider joining all columns at once using pd.concat(axis=1) instead. To get a de-fragmented frame, use `newframe = frame.copy()`\n",
      "  df_test[new_columns] = encoder.transform(df_test[columns_categorical])\n",
      "C:\\Users\\samwa\\AppData\\Local\\Temp\\ipykernel_13900\\1602800353.py:2: PerformanceWarning: DataFrame is highly fragmented.  This is usually the result of calling `frame.insert` many times, which has poor performance.  Consider joining all columns at once using pd.concat(axis=1) instead. To get a de-fragmented frame, use `newframe = frame.copy()`\n",
      "  df_test[new_columns] = encoder.transform(df_test[columns_categorical])\n",
      "C:\\Users\\samwa\\AppData\\Local\\Temp\\ipykernel_13900\\1602800353.py:2: PerformanceWarning: DataFrame is highly fragmented.  This is usually the result of calling `frame.insert` many times, which has poor performance.  Consider joining all columns at once using pd.concat(axis=1) instead. To get a de-fragmented frame, use `newframe = frame.copy()`\n",
      "  df_test[new_columns] = encoder.transform(df_test[columns_categorical])\n",
      "C:\\Users\\samwa\\AppData\\Local\\Temp\\ipykernel_13900\\1602800353.py:2: PerformanceWarning: DataFrame is highly fragmented.  This is usually the result of calling `frame.insert` many times, which has poor performance.  Consider joining all columns at once using pd.concat(axis=1) instead. To get a de-fragmented frame, use `newframe = frame.copy()`\n",
      "  df_test[new_columns] = encoder.transform(df_test[columns_categorical])\n",
      "C:\\Users\\samwa\\AppData\\Local\\Temp\\ipykernel_13900\\1602800353.py:2: PerformanceWarning: DataFrame is highly fragmented.  This is usually the result of calling `frame.insert` many times, which has poor performance.  Consider joining all columns at once using pd.concat(axis=1) instead. To get a de-fragmented frame, use `newframe = frame.copy()`\n",
      "  df_test[new_columns] = encoder.transform(df_test[columns_categorical])\n",
      "C:\\Users\\samwa\\AppData\\Local\\Temp\\ipykernel_13900\\1602800353.py:2: PerformanceWarning: DataFrame is highly fragmented.  This is usually the result of calling `frame.insert` many times, which has poor performance.  Consider joining all columns at once using pd.concat(axis=1) instead. To get a de-fragmented frame, use `newframe = frame.copy()`\n",
      "  df_test[new_columns] = encoder.transform(df_test[columns_categorical])\n",
      "C:\\Users\\samwa\\AppData\\Local\\Temp\\ipykernel_13900\\1602800353.py:2: PerformanceWarning: DataFrame is highly fragmented.  This is usually the result of calling `frame.insert` many times, which has poor performance.  Consider joining all columns at once using pd.concat(axis=1) instead. To get a de-fragmented frame, use `newframe = frame.copy()`\n",
      "  df_test[new_columns] = encoder.transform(df_test[columns_categorical])\n",
      "C:\\Users\\samwa\\AppData\\Local\\Temp\\ipykernel_13900\\1602800353.py:2: PerformanceWarning: DataFrame is highly fragmented.  This is usually the result of calling `frame.insert` many times, which has poor performance.  Consider joining all columns at once using pd.concat(axis=1) instead. To get a de-fragmented frame, use `newframe = frame.copy()`\n",
      "  df_test[new_columns] = encoder.transform(df_test[columns_categorical])\n",
      "C:\\Users\\samwa\\AppData\\Local\\Temp\\ipykernel_13900\\1602800353.py:2: PerformanceWarning: DataFrame is highly fragmented.  This is usually the result of calling `frame.insert` many times, which has poor performance.  Consider joining all columns at once using pd.concat(axis=1) instead. To get a de-fragmented frame, use `newframe = frame.copy()`\n",
      "  df_test[new_columns] = encoder.transform(df_test[columns_categorical])\n",
      "C:\\Users\\samwa\\AppData\\Local\\Temp\\ipykernel_13900\\1602800353.py:2: PerformanceWarning: DataFrame is highly fragmented.  This is usually the result of calling `frame.insert` many times, which has poor performance.  Consider joining all columns at once using pd.concat(axis=1) instead. To get a de-fragmented frame, use `newframe = frame.copy()`\n",
      "  df_test[new_columns] = encoder.transform(df_test[columns_categorical])\n",
      "C:\\Users\\samwa\\AppData\\Local\\Temp\\ipykernel_13900\\1602800353.py:2: PerformanceWarning: DataFrame is highly fragmented.  This is usually the result of calling `frame.insert` many times, which has poor performance.  Consider joining all columns at once using pd.concat(axis=1) instead. To get a de-fragmented frame, use `newframe = frame.copy()`\n",
      "  df_test[new_columns] = encoder.transform(df_test[columns_categorical])\n",
      "C:\\Users\\samwa\\AppData\\Local\\Temp\\ipykernel_13900\\1602800353.py:2: PerformanceWarning: DataFrame is highly fragmented.  This is usually the result of calling `frame.insert` many times, which has poor performance.  Consider joining all columns at once using pd.concat(axis=1) instead. To get a de-fragmented frame, use `newframe = frame.copy()`\n",
      "  df_test[new_columns] = encoder.transform(df_test[columns_categorical])\n",
      "C:\\Users\\samwa\\AppData\\Local\\Temp\\ipykernel_13900\\1602800353.py:2: PerformanceWarning: DataFrame is highly fragmented.  This is usually the result of calling `frame.insert` many times, which has poor performance.  Consider joining all columns at once using pd.concat(axis=1) instead. To get a de-fragmented frame, use `newframe = frame.copy()`\n",
      "  df_test[new_columns] = encoder.transform(df_test[columns_categorical])\n",
      "C:\\Users\\samwa\\AppData\\Local\\Temp\\ipykernel_13900\\1602800353.py:2: PerformanceWarning: DataFrame is highly fragmented.  This is usually the result of calling `frame.insert` many times, which has poor performance.  Consider joining all columns at once using pd.concat(axis=1) instead. To get a de-fragmented frame, use `newframe = frame.copy()`\n",
      "  df_test[new_columns] = encoder.transform(df_test[columns_categorical])\n",
      "C:\\Users\\samwa\\AppData\\Local\\Temp\\ipykernel_13900\\1602800353.py:2: PerformanceWarning: DataFrame is highly fragmented.  This is usually the result of calling `frame.insert` many times, which has poor performance.  Consider joining all columns at once using pd.concat(axis=1) instead. To get a de-fragmented frame, use `newframe = frame.copy()`\n",
      "  df_test[new_columns] = encoder.transform(df_test[columns_categorical])\n",
      "C:\\Users\\samwa\\AppData\\Local\\Temp\\ipykernel_13900\\1602800353.py:2: PerformanceWarning: DataFrame is highly fragmented.  This is usually the result of calling `frame.insert` many times, which has poor performance.  Consider joining all columns at once using pd.concat(axis=1) instead. To get a de-fragmented frame, use `newframe = frame.copy()`\n",
      "  df_test[new_columns] = encoder.transform(df_test[columns_categorical])\n",
      "C:\\Users\\samwa\\AppData\\Local\\Temp\\ipykernel_13900\\1602800353.py:2: PerformanceWarning: DataFrame is highly fragmented.  This is usually the result of calling `frame.insert` many times, which has poor performance.  Consider joining all columns at once using pd.concat(axis=1) instead. To get a de-fragmented frame, use `newframe = frame.copy()`\n",
      "  df_test[new_columns] = encoder.transform(df_test[columns_categorical])\n",
      "C:\\Users\\samwa\\AppData\\Local\\Temp\\ipykernel_13900\\1602800353.py:2: PerformanceWarning: DataFrame is highly fragmented.  This is usually the result of calling `frame.insert` many times, which has poor performance.  Consider joining all columns at once using pd.concat(axis=1) instead. To get a de-fragmented frame, use `newframe = frame.copy()`\n",
      "  df_test[new_columns] = encoder.transform(df_test[columns_categorical])\n",
      "C:\\Users\\samwa\\AppData\\Local\\Temp\\ipykernel_13900\\1602800353.py:2: PerformanceWarning: DataFrame is highly fragmented.  This is usually the result of calling `frame.insert` many times, which has poor performance.  Consider joining all columns at once using pd.concat(axis=1) instead. To get a de-fragmented frame, use `newframe = frame.copy()`\n",
      "  df_test[new_columns] = encoder.transform(df_test[columns_categorical])\n",
      "C:\\Users\\samwa\\AppData\\Local\\Temp\\ipykernel_13900\\1602800353.py:2: PerformanceWarning: DataFrame is highly fragmented.  This is usually the result of calling `frame.insert` many times, which has poor performance.  Consider joining all columns at once using pd.concat(axis=1) instead. To get a de-fragmented frame, use `newframe = frame.copy()`\n",
      "  df_test[new_columns] = encoder.transform(df_test[columns_categorical])\n",
      "C:\\Users\\samwa\\AppData\\Local\\Temp\\ipykernel_13900\\1602800353.py:2: PerformanceWarning: DataFrame is highly fragmented.  This is usually the result of calling `frame.insert` many times, which has poor performance.  Consider joining all columns at once using pd.concat(axis=1) instead. To get a de-fragmented frame, use `newframe = frame.copy()`\n",
      "  df_test[new_columns] = encoder.transform(df_test[columns_categorical])\n",
      "C:\\Users\\samwa\\AppData\\Local\\Temp\\ipykernel_13900\\1602800353.py:2: PerformanceWarning: DataFrame is highly fragmented.  This is usually the result of calling `frame.insert` many times, which has poor performance.  Consider joining all columns at once using pd.concat(axis=1) instead. To get a de-fragmented frame, use `newframe = frame.copy()`\n",
      "  df_test[new_columns] = encoder.transform(df_test[columns_categorical])\n",
      "C:\\Users\\samwa\\AppData\\Local\\Temp\\ipykernel_13900\\1602800353.py:2: PerformanceWarning: DataFrame is highly fragmented.  This is usually the result of calling `frame.insert` many times, which has poor performance.  Consider joining all columns at once using pd.concat(axis=1) instead. To get a de-fragmented frame, use `newframe = frame.copy()`\n",
      "  df_test[new_columns] = encoder.transform(df_test[columns_categorical])\n",
      "C:\\Users\\samwa\\AppData\\Local\\Temp\\ipykernel_13900\\1602800353.py:2: PerformanceWarning: DataFrame is highly fragmented.  This is usually the result of calling `frame.insert` many times, which has poor performance.  Consider joining all columns at once using pd.concat(axis=1) instead. To get a de-fragmented frame, use `newframe = frame.copy()`\n",
      "  df_test[new_columns] = encoder.transform(df_test[columns_categorical])\n",
      "C:\\Users\\samwa\\AppData\\Local\\Temp\\ipykernel_13900\\1602800353.py:2: PerformanceWarning: DataFrame is highly fragmented.  This is usually the result of calling `frame.insert` many times, which has poor performance.  Consider joining all columns at once using pd.concat(axis=1) instead. To get a de-fragmented frame, use `newframe = frame.copy()`\n",
      "  df_test[new_columns] = encoder.transform(df_test[columns_categorical])\n",
      "C:\\Users\\samwa\\AppData\\Local\\Temp\\ipykernel_13900\\1602800353.py:2: PerformanceWarning: DataFrame is highly fragmented.  This is usually the result of calling `frame.insert` many times, which has poor performance.  Consider joining all columns at once using pd.concat(axis=1) instead. To get a de-fragmented frame, use `newframe = frame.copy()`\n",
      "  df_test[new_columns] = encoder.transform(df_test[columns_categorical])\n",
      "C:\\Users\\samwa\\AppData\\Local\\Temp\\ipykernel_13900\\1602800353.py:2: PerformanceWarning: DataFrame is highly fragmented.  This is usually the result of calling `frame.insert` many times, which has poor performance.  Consider joining all columns at once using pd.concat(axis=1) instead. To get a de-fragmented frame, use `newframe = frame.copy()`\n",
      "  df_test[new_columns] = encoder.transform(df_test[columns_categorical])\n",
      "C:\\Users\\samwa\\AppData\\Local\\Temp\\ipykernel_13900\\1602800353.py:2: PerformanceWarning: DataFrame is highly fragmented.  This is usually the result of calling `frame.insert` many times, which has poor performance.  Consider joining all columns at once using pd.concat(axis=1) instead. To get a de-fragmented frame, use `newframe = frame.copy()`\n",
      "  df_test[new_columns] = encoder.transform(df_test[columns_categorical])\n",
      "C:\\Users\\samwa\\AppData\\Local\\Temp\\ipykernel_13900\\1602800353.py:2: PerformanceWarning: DataFrame is highly fragmented.  This is usually the result of calling `frame.insert` many times, which has poor performance.  Consider joining all columns at once using pd.concat(axis=1) instead. To get a de-fragmented frame, use `newframe = frame.copy()`\n",
      "  df_test[new_columns] = encoder.transform(df_test[columns_categorical])\n",
      "C:\\Users\\samwa\\AppData\\Local\\Temp\\ipykernel_13900\\1602800353.py:2: PerformanceWarning: DataFrame is highly fragmented.  This is usually the result of calling `frame.insert` many times, which has poor performance.  Consider joining all columns at once using pd.concat(axis=1) instead. To get a de-fragmented frame, use `newframe = frame.copy()`\n",
      "  df_test[new_columns] = encoder.transform(df_test[columns_categorical])\n",
      "C:\\Users\\samwa\\AppData\\Local\\Temp\\ipykernel_13900\\1602800353.py:2: PerformanceWarning: DataFrame is highly fragmented.  This is usually the result of calling `frame.insert` many times, which has poor performance.  Consider joining all columns at once using pd.concat(axis=1) instead. To get a de-fragmented frame, use `newframe = frame.copy()`\n",
      "  df_test[new_columns] = encoder.transform(df_test[columns_categorical])\n",
      "C:\\Users\\samwa\\AppData\\Local\\Temp\\ipykernel_13900\\1602800353.py:2: PerformanceWarning: DataFrame is highly fragmented.  This is usually the result of calling `frame.insert` many times, which has poor performance.  Consider joining all columns at once using pd.concat(axis=1) instead. To get a de-fragmented frame, use `newframe = frame.copy()`\n",
      "  df_test[new_columns] = encoder.transform(df_test[columns_categorical])\n",
      "C:\\Users\\samwa\\AppData\\Local\\Temp\\ipykernel_13900\\1602800353.py:2: PerformanceWarning: DataFrame is highly fragmented.  This is usually the result of calling `frame.insert` many times, which has poor performance.  Consider joining all columns at once using pd.concat(axis=1) instead. To get a de-fragmented frame, use `newframe = frame.copy()`\n",
      "  df_test[new_columns] = encoder.transform(df_test[columns_categorical])\n",
      "C:\\Users\\samwa\\AppData\\Local\\Temp\\ipykernel_13900\\1602800353.py:2: PerformanceWarning: DataFrame is highly fragmented.  This is usually the result of calling `frame.insert` many times, which has poor performance.  Consider joining all columns at once using pd.concat(axis=1) instead. To get a de-fragmented frame, use `newframe = frame.copy()`\n",
      "  df_test[new_columns] = encoder.transform(df_test[columns_categorical])\n",
      "C:\\Users\\samwa\\AppData\\Local\\Temp\\ipykernel_13900\\1602800353.py:2: PerformanceWarning: DataFrame is highly fragmented.  This is usually the result of calling `frame.insert` many times, which has poor performance.  Consider joining all columns at once using pd.concat(axis=1) instead. To get a de-fragmented frame, use `newframe = frame.copy()`\n",
      "  df_test[new_columns] = encoder.transform(df_test[columns_categorical])\n",
      "C:\\Users\\samwa\\AppData\\Local\\Temp\\ipykernel_13900\\1602800353.py:2: PerformanceWarning: DataFrame is highly fragmented.  This is usually the result of calling `frame.insert` many times, which has poor performance.  Consider joining all columns at once using pd.concat(axis=1) instead. To get a de-fragmented frame, use `newframe = frame.copy()`\n",
      "  df_test[new_columns] = encoder.transform(df_test[columns_categorical])\n",
      "C:\\Users\\samwa\\AppData\\Local\\Temp\\ipykernel_13900\\1602800353.py:2: PerformanceWarning: DataFrame is highly fragmented.  This is usually the result of calling `frame.insert` many times, which has poor performance.  Consider joining all columns at once using pd.concat(axis=1) instead. To get a de-fragmented frame, use `newframe = frame.copy()`\n",
      "  df_test[new_columns] = encoder.transform(df_test[columns_categorical])\n",
      "C:\\Users\\samwa\\AppData\\Local\\Temp\\ipykernel_13900\\1602800353.py:2: PerformanceWarning: DataFrame is highly fragmented.  This is usually the result of calling `frame.insert` many times, which has poor performance.  Consider joining all columns at once using pd.concat(axis=1) instead. To get a de-fragmented frame, use `newframe = frame.copy()`\n",
      "  df_test[new_columns] = encoder.transform(df_test[columns_categorical])\n",
      "C:\\Users\\samwa\\AppData\\Local\\Temp\\ipykernel_13900\\1602800353.py:2: PerformanceWarning: DataFrame is highly fragmented.  This is usually the result of calling `frame.insert` many times, which has poor performance.  Consider joining all columns at once using pd.concat(axis=1) instead. To get a de-fragmented frame, use `newframe = frame.copy()`\n",
      "  df_test[new_columns] = encoder.transform(df_test[columns_categorical])\n",
      "C:\\Users\\samwa\\AppData\\Local\\Temp\\ipykernel_13900\\1602800353.py:2: PerformanceWarning: DataFrame is highly fragmented.  This is usually the result of calling `frame.insert` many times, which has poor performance.  Consider joining all columns at once using pd.concat(axis=1) instead. To get a de-fragmented frame, use `newframe = frame.copy()`\n",
      "  df_test[new_columns] = encoder.transform(df_test[columns_categorical])\n",
      "C:\\Users\\samwa\\AppData\\Local\\Temp\\ipykernel_13900\\1602800353.py:2: PerformanceWarning: DataFrame is highly fragmented.  This is usually the result of calling `frame.insert` many times, which has poor performance.  Consider joining all columns at once using pd.concat(axis=1) instead. To get a de-fragmented frame, use `newframe = frame.copy()`\n",
      "  df_test[new_columns] = encoder.transform(df_test[columns_categorical])\n",
      "C:\\Users\\samwa\\AppData\\Local\\Temp\\ipykernel_13900\\1602800353.py:2: PerformanceWarning: DataFrame is highly fragmented.  This is usually the result of calling `frame.insert` many times, which has poor performance.  Consider joining all columns at once using pd.concat(axis=1) instead. To get a de-fragmented frame, use `newframe = frame.copy()`\n",
      "  df_test[new_columns] = encoder.transform(df_test[columns_categorical])\n",
      "C:\\Users\\samwa\\AppData\\Local\\Temp\\ipykernel_13900\\1602800353.py:2: PerformanceWarning: DataFrame is highly fragmented.  This is usually the result of calling `frame.insert` many times, which has poor performance.  Consider joining all columns at once using pd.concat(axis=1) instead. To get a de-fragmented frame, use `newframe = frame.copy()`\n",
      "  df_test[new_columns] = encoder.transform(df_test[columns_categorical])\n",
      "C:\\Users\\samwa\\AppData\\Local\\Temp\\ipykernel_13900\\1602800353.py:2: PerformanceWarning: DataFrame is highly fragmented.  This is usually the result of calling `frame.insert` many times, which has poor performance.  Consider joining all columns at once using pd.concat(axis=1) instead. To get a de-fragmented frame, use `newframe = frame.copy()`\n",
      "  df_test[new_columns] = encoder.transform(df_test[columns_categorical])\n",
      "C:\\Users\\samwa\\AppData\\Local\\Temp\\ipykernel_13900\\1602800353.py:2: PerformanceWarning: DataFrame is highly fragmented.  This is usually the result of calling `frame.insert` many times, which has poor performance.  Consider joining all columns at once using pd.concat(axis=1) instead. To get a de-fragmented frame, use `newframe = frame.copy()`\n",
      "  df_test[new_columns] = encoder.transform(df_test[columns_categorical])\n",
      "C:\\Users\\samwa\\AppData\\Local\\Temp\\ipykernel_13900\\1602800353.py:2: PerformanceWarning: DataFrame is highly fragmented.  This is usually the result of calling `frame.insert` many times, which has poor performance.  Consider joining all columns at once using pd.concat(axis=1) instead. To get a de-fragmented frame, use `newframe = frame.copy()`\n",
      "  df_test[new_columns] = encoder.transform(df_test[columns_categorical])\n",
      "C:\\Users\\samwa\\AppData\\Local\\Temp\\ipykernel_13900\\1602800353.py:2: PerformanceWarning: DataFrame is highly fragmented.  This is usually the result of calling `frame.insert` many times, which has poor performance.  Consider joining all columns at once using pd.concat(axis=1) instead. To get a de-fragmented frame, use `newframe = frame.copy()`\n",
      "  df_test[new_columns] = encoder.transform(df_test[columns_categorical])\n",
      "C:\\Users\\samwa\\AppData\\Local\\Temp\\ipykernel_13900\\1602800353.py:2: PerformanceWarning: DataFrame is highly fragmented.  This is usually the result of calling `frame.insert` many times, which has poor performance.  Consider joining all columns at once using pd.concat(axis=1) instead. To get a de-fragmented frame, use `newframe = frame.copy()`\n",
      "  df_test[new_columns] = encoder.transform(df_test[columns_categorical])\n",
      "C:\\Users\\samwa\\AppData\\Local\\Temp\\ipykernel_13900\\1602800353.py:2: PerformanceWarning: DataFrame is highly fragmented.  This is usually the result of calling `frame.insert` many times, which has poor performance.  Consider joining all columns at once using pd.concat(axis=1) instead. To get a de-fragmented frame, use `newframe = frame.copy()`\n",
      "  df_test[new_columns] = encoder.transform(df_test[columns_categorical])\n",
      "C:\\Users\\samwa\\AppData\\Local\\Temp\\ipykernel_13900\\1602800353.py:2: PerformanceWarning: DataFrame is highly fragmented.  This is usually the result of calling `frame.insert` many times, which has poor performance.  Consider joining all columns at once using pd.concat(axis=1) instead. To get a de-fragmented frame, use `newframe = frame.copy()`\n",
      "  df_test[new_columns] = encoder.transform(df_test[columns_categorical])\n",
      "C:\\Users\\samwa\\AppData\\Local\\Temp\\ipykernel_13900\\1602800353.py:2: PerformanceWarning: DataFrame is highly fragmented.  This is usually the result of calling `frame.insert` many times, which has poor performance.  Consider joining all columns at once using pd.concat(axis=1) instead. To get a de-fragmented frame, use `newframe = frame.copy()`\n",
      "  df_test[new_columns] = encoder.transform(df_test[columns_categorical])\n",
      "C:\\Users\\samwa\\AppData\\Local\\Temp\\ipykernel_13900\\1602800353.py:2: PerformanceWarning: DataFrame is highly fragmented.  This is usually the result of calling `frame.insert` many times, which has poor performance.  Consider joining all columns at once using pd.concat(axis=1) instead. To get a de-fragmented frame, use `newframe = frame.copy()`\n",
      "  df_test[new_columns] = encoder.transform(df_test[columns_categorical])\n",
      "C:\\Users\\samwa\\AppData\\Local\\Temp\\ipykernel_13900\\1602800353.py:2: PerformanceWarning: DataFrame is highly fragmented.  This is usually the result of calling `frame.insert` many times, which has poor performance.  Consider joining all columns at once using pd.concat(axis=1) instead. To get a de-fragmented frame, use `newframe = frame.copy()`\n",
      "  df_test[new_columns] = encoder.transform(df_test[columns_categorical])\n",
      "C:\\Users\\samwa\\AppData\\Local\\Temp\\ipykernel_13900\\1602800353.py:2: PerformanceWarning: DataFrame is highly fragmented.  This is usually the result of calling `frame.insert` many times, which has poor performance.  Consider joining all columns at once using pd.concat(axis=1) instead. To get a de-fragmented frame, use `newframe = frame.copy()`\n",
      "  df_test[new_columns] = encoder.transform(df_test[columns_categorical])\n",
      "C:\\Users\\samwa\\AppData\\Local\\Temp\\ipykernel_13900\\1602800353.py:2: PerformanceWarning: DataFrame is highly fragmented.  This is usually the result of calling `frame.insert` many times, which has poor performance.  Consider joining all columns at once using pd.concat(axis=1) instead. To get a de-fragmented frame, use `newframe = frame.copy()`\n",
      "  df_test[new_columns] = encoder.transform(df_test[columns_categorical])\n",
      "C:\\Users\\samwa\\AppData\\Local\\Temp\\ipykernel_13900\\1602800353.py:2: PerformanceWarning: DataFrame is highly fragmented.  This is usually the result of calling `frame.insert` many times, which has poor performance.  Consider joining all columns at once using pd.concat(axis=1) instead. To get a de-fragmented frame, use `newframe = frame.copy()`\n",
      "  df_test[new_columns] = encoder.transform(df_test[columns_categorical])\n",
      "C:\\Users\\samwa\\AppData\\Local\\Temp\\ipykernel_13900\\1602800353.py:2: PerformanceWarning: DataFrame is highly fragmented.  This is usually the result of calling `frame.insert` many times, which has poor performance.  Consider joining all columns at once using pd.concat(axis=1) instead. To get a de-fragmented frame, use `newframe = frame.copy()`\n",
      "  df_test[new_columns] = encoder.transform(df_test[columns_categorical])\n",
      "C:\\Users\\samwa\\AppData\\Local\\Temp\\ipykernel_13900\\1602800353.py:2: PerformanceWarning: DataFrame is highly fragmented.  This is usually the result of calling `frame.insert` many times, which has poor performance.  Consider joining all columns at once using pd.concat(axis=1) instead. To get a de-fragmented frame, use `newframe = frame.copy()`\n",
      "  df_test[new_columns] = encoder.transform(df_test[columns_categorical])\n",
      "C:\\Users\\samwa\\AppData\\Local\\Temp\\ipykernel_13900\\1602800353.py:2: PerformanceWarning: DataFrame is highly fragmented.  This is usually the result of calling `frame.insert` many times, which has poor performance.  Consider joining all columns at once using pd.concat(axis=1) instead. To get a de-fragmented frame, use `newframe = frame.copy()`\n",
      "  df_test[new_columns] = encoder.transform(df_test[columns_categorical])\n",
      "C:\\Users\\samwa\\AppData\\Local\\Temp\\ipykernel_13900\\1602800353.py:2: PerformanceWarning: DataFrame is highly fragmented.  This is usually the result of calling `frame.insert` many times, which has poor performance.  Consider joining all columns at once using pd.concat(axis=1) instead. To get a de-fragmented frame, use `newframe = frame.copy()`\n",
      "  df_test[new_columns] = encoder.transform(df_test[columns_categorical])\n",
      "C:\\Users\\samwa\\AppData\\Local\\Temp\\ipykernel_13900\\1602800353.py:2: PerformanceWarning: DataFrame is highly fragmented.  This is usually the result of calling `frame.insert` many times, which has poor performance.  Consider joining all columns at once using pd.concat(axis=1) instead. To get a de-fragmented frame, use `newframe = frame.copy()`\n",
      "  df_test[new_columns] = encoder.transform(df_test[columns_categorical])\n",
      "C:\\Users\\samwa\\AppData\\Local\\Temp\\ipykernel_13900\\1602800353.py:2: PerformanceWarning: DataFrame is highly fragmented.  This is usually the result of calling `frame.insert` many times, which has poor performance.  Consider joining all columns at once using pd.concat(axis=1) instead. To get a de-fragmented frame, use `newframe = frame.copy()`\n",
      "  df_test[new_columns] = encoder.transform(df_test[columns_categorical])\n",
      "C:\\Users\\samwa\\AppData\\Local\\Temp\\ipykernel_13900\\1602800353.py:2: PerformanceWarning: DataFrame is highly fragmented.  This is usually the result of calling `frame.insert` many times, which has poor performance.  Consider joining all columns at once using pd.concat(axis=1) instead. To get a de-fragmented frame, use `newframe = frame.copy()`\n",
      "  df_test[new_columns] = encoder.transform(df_test[columns_categorical])\n",
      "C:\\Users\\samwa\\AppData\\Local\\Temp\\ipykernel_13900\\1602800353.py:2: PerformanceWarning: DataFrame is highly fragmented.  This is usually the result of calling `frame.insert` many times, which has poor performance.  Consider joining all columns at once using pd.concat(axis=1) instead. To get a de-fragmented frame, use `newframe = frame.copy()`\n",
      "  df_test[new_columns] = encoder.transform(df_test[columns_categorical])\n",
      "C:\\Users\\samwa\\AppData\\Local\\Temp\\ipykernel_13900\\1602800353.py:2: PerformanceWarning: DataFrame is highly fragmented.  This is usually the result of calling `frame.insert` many times, which has poor performance.  Consider joining all columns at once using pd.concat(axis=1) instead. To get a de-fragmented frame, use `newframe = frame.copy()`\n",
      "  df_test[new_columns] = encoder.transform(df_test[columns_categorical])\n",
      "C:\\Users\\samwa\\AppData\\Local\\Temp\\ipykernel_13900\\1602800353.py:2: PerformanceWarning: DataFrame is highly fragmented.  This is usually the result of calling `frame.insert` many times, which has poor performance.  Consider joining all columns at once using pd.concat(axis=1) instead. To get a de-fragmented frame, use `newframe = frame.copy()`\n",
      "  df_test[new_columns] = encoder.transform(df_test[columns_categorical])\n",
      "C:\\Users\\samwa\\AppData\\Local\\Temp\\ipykernel_13900\\1602800353.py:2: PerformanceWarning: DataFrame is highly fragmented.  This is usually the result of calling `frame.insert` many times, which has poor performance.  Consider joining all columns at once using pd.concat(axis=1) instead. To get a de-fragmented frame, use `newframe = frame.copy()`\n",
      "  df_test[new_columns] = encoder.transform(df_test[columns_categorical])\n",
      "C:\\Users\\samwa\\AppData\\Local\\Temp\\ipykernel_13900\\1602800353.py:2: PerformanceWarning: DataFrame is highly fragmented.  This is usually the result of calling `frame.insert` many times, which has poor performance.  Consider joining all columns at once using pd.concat(axis=1) instead. To get a de-fragmented frame, use `newframe = frame.copy()`\n",
      "  df_test[new_columns] = encoder.transform(df_test[columns_categorical])\n",
      "C:\\Users\\samwa\\AppData\\Local\\Temp\\ipykernel_13900\\1602800353.py:2: PerformanceWarning: DataFrame is highly fragmented.  This is usually the result of calling `frame.insert` many times, which has poor performance.  Consider joining all columns at once using pd.concat(axis=1) instead. To get a de-fragmented frame, use `newframe = frame.copy()`\n",
      "  df_test[new_columns] = encoder.transform(df_test[columns_categorical])\n",
      "C:\\Users\\samwa\\AppData\\Local\\Temp\\ipykernel_13900\\1602800353.py:2: PerformanceWarning: DataFrame is highly fragmented.  This is usually the result of calling `frame.insert` many times, which has poor performance.  Consider joining all columns at once using pd.concat(axis=1) instead. To get a de-fragmented frame, use `newframe = frame.copy()`\n",
      "  df_test[new_columns] = encoder.transform(df_test[columns_categorical])\n",
      "C:\\Users\\samwa\\AppData\\Local\\Temp\\ipykernel_13900\\1602800353.py:2: PerformanceWarning: DataFrame is highly fragmented.  This is usually the result of calling `frame.insert` many times, which has poor performance.  Consider joining all columns at once using pd.concat(axis=1) instead. To get a de-fragmented frame, use `newframe = frame.copy()`\n",
      "  df_test[new_columns] = encoder.transform(df_test[columns_categorical])\n",
      "C:\\Users\\samwa\\AppData\\Local\\Temp\\ipykernel_13900\\1602800353.py:2: PerformanceWarning: DataFrame is highly fragmented.  This is usually the result of calling `frame.insert` many times, which has poor performance.  Consider joining all columns at once using pd.concat(axis=1) instead. To get a de-fragmented frame, use `newframe = frame.copy()`\n",
      "  df_test[new_columns] = encoder.transform(df_test[columns_categorical])\n",
      "C:\\Users\\samwa\\AppData\\Local\\Temp\\ipykernel_13900\\1602800353.py:2: PerformanceWarning: DataFrame is highly fragmented.  This is usually the result of calling `frame.insert` many times, which has poor performance.  Consider joining all columns at once using pd.concat(axis=1) instead. To get a de-fragmented frame, use `newframe = frame.copy()`\n",
      "  df_test[new_columns] = encoder.transform(df_test[columns_categorical])\n",
      "C:\\Users\\samwa\\AppData\\Local\\Temp\\ipykernel_13900\\1602800353.py:2: PerformanceWarning: DataFrame is highly fragmented.  This is usually the result of calling `frame.insert` many times, which has poor performance.  Consider joining all columns at once using pd.concat(axis=1) instead. To get a de-fragmented frame, use `newframe = frame.copy()`\n",
      "  df_test[new_columns] = encoder.transform(df_test[columns_categorical])\n",
      "C:\\Users\\samwa\\AppData\\Local\\Temp\\ipykernel_13900\\1602800353.py:2: PerformanceWarning: DataFrame is highly fragmented.  This is usually the result of calling `frame.insert` many times, which has poor performance.  Consider joining all columns at once using pd.concat(axis=1) instead. To get a de-fragmented frame, use `newframe = frame.copy()`\n",
      "  df_test[new_columns] = encoder.transform(df_test[columns_categorical])\n",
      "C:\\Users\\samwa\\AppData\\Local\\Temp\\ipykernel_13900\\1602800353.py:2: PerformanceWarning: DataFrame is highly fragmented.  This is usually the result of calling `frame.insert` many times, which has poor performance.  Consider joining all columns at once using pd.concat(axis=1) instead. To get a de-fragmented frame, use `newframe = frame.copy()`\n",
      "  df_test[new_columns] = encoder.transform(df_test[columns_categorical])\n",
      "C:\\Users\\samwa\\AppData\\Local\\Temp\\ipykernel_13900\\1602800353.py:2: PerformanceWarning: DataFrame is highly fragmented.  This is usually the result of calling `frame.insert` many times, which has poor performance.  Consider joining all columns at once using pd.concat(axis=1) instead. To get a de-fragmented frame, use `newframe = frame.copy()`\n",
      "  df_test[new_columns] = encoder.transform(df_test[columns_categorical])\n",
      "C:\\Users\\samwa\\AppData\\Local\\Temp\\ipykernel_13900\\1602800353.py:2: PerformanceWarning: DataFrame is highly fragmented.  This is usually the result of calling `frame.insert` many times, which has poor performance.  Consider joining all columns at once using pd.concat(axis=1) instead. To get a de-fragmented frame, use `newframe = frame.copy()`\n",
      "  df_test[new_columns] = encoder.transform(df_test[columns_categorical])\n",
      "C:\\Users\\samwa\\AppData\\Local\\Temp\\ipykernel_13900\\1602800353.py:2: PerformanceWarning: DataFrame is highly fragmented.  This is usually the result of calling `frame.insert` many times, which has poor performance.  Consider joining all columns at once using pd.concat(axis=1) instead. To get a de-fragmented frame, use `newframe = frame.copy()`\n",
      "  df_test[new_columns] = encoder.transform(df_test[columns_categorical])\n",
      "C:\\Users\\samwa\\AppData\\Local\\Temp\\ipykernel_13900\\1602800353.py:2: PerformanceWarning: DataFrame is highly fragmented.  This is usually the result of calling `frame.insert` many times, which has poor performance.  Consider joining all columns at once using pd.concat(axis=1) instead. To get a de-fragmented frame, use `newframe = frame.copy()`\n",
      "  df_test[new_columns] = encoder.transform(df_test[columns_categorical])\n",
      "C:\\Users\\samwa\\AppData\\Local\\Temp\\ipykernel_13900\\1602800353.py:2: PerformanceWarning: DataFrame is highly fragmented.  This is usually the result of calling `frame.insert` many times, which has poor performance.  Consider joining all columns at once using pd.concat(axis=1) instead. To get a de-fragmented frame, use `newframe = frame.copy()`\n",
      "  df_test[new_columns] = encoder.transform(df_test[columns_categorical])\n",
      "C:\\Users\\samwa\\AppData\\Local\\Temp\\ipykernel_13900\\1602800353.py:2: PerformanceWarning: DataFrame is highly fragmented.  This is usually the result of calling `frame.insert` many times, which has poor performance.  Consider joining all columns at once using pd.concat(axis=1) instead. To get a de-fragmented frame, use `newframe = frame.copy()`\n",
      "  df_test[new_columns] = encoder.transform(df_test[columns_categorical])\n",
      "C:\\Users\\samwa\\AppData\\Local\\Temp\\ipykernel_13900\\1602800353.py:2: PerformanceWarning: DataFrame is highly fragmented.  This is usually the result of calling `frame.insert` many times, which has poor performance.  Consider joining all columns at once using pd.concat(axis=1) instead. To get a de-fragmented frame, use `newframe = frame.copy()`\n",
      "  df_test[new_columns] = encoder.transform(df_test[columns_categorical])\n",
      "C:\\Users\\samwa\\AppData\\Local\\Temp\\ipykernel_13900\\1602800353.py:2: PerformanceWarning: DataFrame is highly fragmented.  This is usually the result of calling `frame.insert` many times, which has poor performance.  Consider joining all columns at once using pd.concat(axis=1) instead. To get a de-fragmented frame, use `newframe = frame.copy()`\n",
      "  df_test[new_columns] = encoder.transform(df_test[columns_categorical])\n",
      "C:\\Users\\samwa\\AppData\\Local\\Temp\\ipykernel_13900\\1602800353.py:2: PerformanceWarning: DataFrame is highly fragmented.  This is usually the result of calling `frame.insert` many times, which has poor performance.  Consider joining all columns at once using pd.concat(axis=1) instead. To get a de-fragmented frame, use `newframe = frame.copy()`\n",
      "  df_test[new_columns] = encoder.transform(df_test[columns_categorical])\n",
      "C:\\Users\\samwa\\AppData\\Local\\Temp\\ipykernel_13900\\1602800353.py:2: PerformanceWarning: DataFrame is highly fragmented.  This is usually the result of calling `frame.insert` many times, which has poor performance.  Consider joining all columns at once using pd.concat(axis=1) instead. To get a de-fragmented frame, use `newframe = frame.copy()`\n",
      "  df_test[new_columns] = encoder.transform(df_test[columns_categorical])\n",
      "C:\\Users\\samwa\\AppData\\Local\\Temp\\ipykernel_13900\\1602800353.py:2: PerformanceWarning: DataFrame is highly fragmented.  This is usually the result of calling `frame.insert` many times, which has poor performance.  Consider joining all columns at once using pd.concat(axis=1) instead. To get a de-fragmented frame, use `newframe = frame.copy()`\n",
      "  df_test[new_columns] = encoder.transform(df_test[columns_categorical])\n",
      "C:\\Users\\samwa\\AppData\\Local\\Temp\\ipykernel_13900\\1602800353.py:2: PerformanceWarning: DataFrame is highly fragmented.  This is usually the result of calling `frame.insert` many times, which has poor performance.  Consider joining all columns at once using pd.concat(axis=1) instead. To get a de-fragmented frame, use `newframe = frame.copy()`\n",
      "  df_test[new_columns] = encoder.transform(df_test[columns_categorical])\n",
      "C:\\Users\\samwa\\AppData\\Local\\Temp\\ipykernel_13900\\1602800353.py:2: PerformanceWarning: DataFrame is highly fragmented.  This is usually the result of calling `frame.insert` many times, which has poor performance.  Consider joining all columns at once using pd.concat(axis=1) instead. To get a de-fragmented frame, use `newframe = frame.copy()`\n",
      "  df_test[new_columns] = encoder.transform(df_test[columns_categorical])\n",
      "C:\\Users\\samwa\\AppData\\Local\\Temp\\ipykernel_13900\\1602800353.py:2: PerformanceWarning: DataFrame is highly fragmented.  This is usually the result of calling `frame.insert` many times, which has poor performance.  Consider joining all columns at once using pd.concat(axis=1) instead. To get a de-fragmented frame, use `newframe = frame.copy()`\n",
      "  df_test[new_columns] = encoder.transform(df_test[columns_categorical])\n",
      "C:\\Users\\samwa\\AppData\\Local\\Temp\\ipykernel_13900\\1602800353.py:2: PerformanceWarning: DataFrame is highly fragmented.  This is usually the result of calling `frame.insert` many times, which has poor performance.  Consider joining all columns at once using pd.concat(axis=1) instead. To get a de-fragmented frame, use `newframe = frame.copy()`\n",
      "  df_test[new_columns] = encoder.transform(df_test[columns_categorical])\n",
      "C:\\Users\\samwa\\AppData\\Local\\Temp\\ipykernel_13900\\1602800353.py:2: PerformanceWarning: DataFrame is highly fragmented.  This is usually the result of calling `frame.insert` many times, which has poor performance.  Consider joining all columns at once using pd.concat(axis=1) instead. To get a de-fragmented frame, use `newframe = frame.copy()`\n",
      "  df_test[new_columns] = encoder.transform(df_test[columns_categorical])\n",
      "C:\\Users\\samwa\\AppData\\Local\\Temp\\ipykernel_13900\\1602800353.py:2: PerformanceWarning: DataFrame is highly fragmented.  This is usually the result of calling `frame.insert` many times, which has poor performance.  Consider joining all columns at once using pd.concat(axis=1) instead. To get a de-fragmented frame, use `newframe = frame.copy()`\n",
      "  df_test[new_columns] = encoder.transform(df_test[columns_categorical])\n",
      "C:\\Users\\samwa\\AppData\\Local\\Temp\\ipykernel_13900\\1602800353.py:2: PerformanceWarning: DataFrame is highly fragmented.  This is usually the result of calling `frame.insert` many times, which has poor performance.  Consider joining all columns at once using pd.concat(axis=1) instead. To get a de-fragmented frame, use `newframe = frame.copy()`\n",
      "  df_test[new_columns] = encoder.transform(df_test[columns_categorical])\n",
      "C:\\Users\\samwa\\AppData\\Local\\Temp\\ipykernel_13900\\1602800353.py:2: PerformanceWarning: DataFrame is highly fragmented.  This is usually the result of calling `frame.insert` many times, which has poor performance.  Consider joining all columns at once using pd.concat(axis=1) instead. To get a de-fragmented frame, use `newframe = frame.copy()`\n",
      "  df_test[new_columns] = encoder.transform(df_test[columns_categorical])\n",
      "C:\\Users\\samwa\\AppData\\Local\\Temp\\ipykernel_13900\\1602800353.py:2: PerformanceWarning: DataFrame is highly fragmented.  This is usually the result of calling `frame.insert` many times, which has poor performance.  Consider joining all columns at once using pd.concat(axis=1) instead. To get a de-fragmented frame, use `newframe = frame.copy()`\n",
      "  df_test[new_columns] = encoder.transform(df_test[columns_categorical])\n",
      "C:\\Users\\samwa\\AppData\\Local\\Temp\\ipykernel_13900\\1602800353.py:2: PerformanceWarning: DataFrame is highly fragmented.  This is usually the result of calling `frame.insert` many times, which has poor performance.  Consider joining all columns at once using pd.concat(axis=1) instead. To get a de-fragmented frame, use `newframe = frame.copy()`\n",
      "  df_test[new_columns] = encoder.transform(df_test[columns_categorical])\n",
      "C:\\Users\\samwa\\AppData\\Local\\Temp\\ipykernel_13900\\1602800353.py:2: PerformanceWarning: DataFrame is highly fragmented.  This is usually the result of calling `frame.insert` many times, which has poor performance.  Consider joining all columns at once using pd.concat(axis=1) instead. To get a de-fragmented frame, use `newframe = frame.copy()`\n",
      "  df_test[new_columns] = encoder.transform(df_test[columns_categorical])\n",
      "C:\\Users\\samwa\\AppData\\Local\\Temp\\ipykernel_13900\\1602800353.py:2: PerformanceWarning: DataFrame is highly fragmented.  This is usually the result of calling `frame.insert` many times, which has poor performance.  Consider joining all columns at once using pd.concat(axis=1) instead. To get a de-fragmented frame, use `newframe = frame.copy()`\n",
      "  df_test[new_columns] = encoder.transform(df_test[columns_categorical])\n",
      "C:\\Users\\samwa\\AppData\\Local\\Temp\\ipykernel_13900\\1602800353.py:2: PerformanceWarning: DataFrame is highly fragmented.  This is usually the result of calling `frame.insert` many times, which has poor performance.  Consider joining all columns at once using pd.concat(axis=1) instead. To get a de-fragmented frame, use `newframe = frame.copy()`\n",
      "  df_test[new_columns] = encoder.transform(df_test[columns_categorical])\n",
      "C:\\Users\\samwa\\AppData\\Local\\Temp\\ipykernel_13900\\1602800353.py:2: PerformanceWarning: DataFrame is highly fragmented.  This is usually the result of calling `frame.insert` many times, which has poor performance.  Consider joining all columns at once using pd.concat(axis=1) instead. To get a de-fragmented frame, use `newframe = frame.copy()`\n",
      "  df_test[new_columns] = encoder.transform(df_test[columns_categorical])\n",
      "C:\\Users\\samwa\\AppData\\Local\\Temp\\ipykernel_13900\\1602800353.py:2: PerformanceWarning: DataFrame is highly fragmented.  This is usually the result of calling `frame.insert` many times, which has poor performance.  Consider joining all columns at once using pd.concat(axis=1) instead. To get a de-fragmented frame, use `newframe = frame.copy()`\n",
      "  df_test[new_columns] = encoder.transform(df_test[columns_categorical])\n",
      "C:\\Users\\samwa\\AppData\\Local\\Temp\\ipykernel_13900\\1602800353.py:2: PerformanceWarning: DataFrame is highly fragmented.  This is usually the result of calling `frame.insert` many times, which has poor performance.  Consider joining all columns at once using pd.concat(axis=1) instead. To get a de-fragmented frame, use `newframe = frame.copy()`\n",
      "  df_test[new_columns] = encoder.transform(df_test[columns_categorical])\n",
      "C:\\Users\\samwa\\AppData\\Local\\Temp\\ipykernel_13900\\1602800353.py:2: PerformanceWarning: DataFrame is highly fragmented.  This is usually the result of calling `frame.insert` many times, which has poor performance.  Consider joining all columns at once using pd.concat(axis=1) instead. To get a de-fragmented frame, use `newframe = frame.copy()`\n",
      "  df_test[new_columns] = encoder.transform(df_test[columns_categorical])\n",
      "C:\\Users\\samwa\\AppData\\Local\\Temp\\ipykernel_13900\\1602800353.py:2: PerformanceWarning: DataFrame is highly fragmented.  This is usually the result of calling `frame.insert` many times, which has poor performance.  Consider joining all columns at once using pd.concat(axis=1) instead. To get a de-fragmented frame, use `newframe = frame.copy()`\n",
      "  df_test[new_columns] = encoder.transform(df_test[columns_categorical])\n",
      "C:\\Users\\samwa\\AppData\\Local\\Temp\\ipykernel_13900\\1602800353.py:2: PerformanceWarning: DataFrame is highly fragmented.  This is usually the result of calling `frame.insert` many times, which has poor performance.  Consider joining all columns at once using pd.concat(axis=1) instead. To get a de-fragmented frame, use `newframe = frame.copy()`\n",
      "  df_test[new_columns] = encoder.transform(df_test[columns_categorical])\n",
      "C:\\Users\\samwa\\AppData\\Local\\Temp\\ipykernel_13900\\1602800353.py:2: PerformanceWarning: DataFrame is highly fragmented.  This is usually the result of calling `frame.insert` many times, which has poor performance.  Consider joining all columns at once using pd.concat(axis=1) instead. To get a de-fragmented frame, use `newframe = frame.copy()`\n",
      "  df_test[new_columns] = encoder.transform(df_test[columns_categorical])\n",
      "C:\\Users\\samwa\\AppData\\Local\\Temp\\ipykernel_13900\\1602800353.py:2: PerformanceWarning: DataFrame is highly fragmented.  This is usually the result of calling `frame.insert` many times, which has poor performance.  Consider joining all columns at once using pd.concat(axis=1) instead. To get a de-fragmented frame, use `newframe = frame.copy()`\n",
      "  df_test[new_columns] = encoder.transform(df_test[columns_categorical])\n",
      "C:\\Users\\samwa\\AppData\\Local\\Temp\\ipykernel_13900\\1602800353.py:2: PerformanceWarning: DataFrame is highly fragmented.  This is usually the result of calling `frame.insert` many times, which has poor performance.  Consider joining all columns at once using pd.concat(axis=1) instead. To get a de-fragmented frame, use `newframe = frame.copy()`\n",
      "  df_test[new_columns] = encoder.transform(df_test[columns_categorical])\n",
      "C:\\Users\\samwa\\AppData\\Local\\Temp\\ipykernel_13900\\1602800353.py:2: PerformanceWarning: DataFrame is highly fragmented.  This is usually the result of calling `frame.insert` many times, which has poor performance.  Consider joining all columns at once using pd.concat(axis=1) instead. To get a de-fragmented frame, use `newframe = frame.copy()`\n",
      "  df_test[new_columns] = encoder.transform(df_test[columns_categorical])\n",
      "C:\\Users\\samwa\\AppData\\Local\\Temp\\ipykernel_13900\\1602800353.py:2: PerformanceWarning: DataFrame is highly fragmented.  This is usually the result of calling `frame.insert` many times, which has poor performance.  Consider joining all columns at once using pd.concat(axis=1) instead. To get a de-fragmented frame, use `newframe = frame.copy()`\n",
      "  df_test[new_columns] = encoder.transform(df_test[columns_categorical])\n",
      "C:\\Users\\samwa\\AppData\\Local\\Temp\\ipykernel_13900\\1602800353.py:2: PerformanceWarning: DataFrame is highly fragmented.  This is usually the result of calling `frame.insert` many times, which has poor performance.  Consider joining all columns at once using pd.concat(axis=1) instead. To get a de-fragmented frame, use `newframe = frame.copy()`\n",
      "  df_test[new_columns] = encoder.transform(df_test[columns_categorical])\n",
      "C:\\Users\\samwa\\AppData\\Local\\Temp\\ipykernel_13900\\1602800353.py:2: PerformanceWarning: DataFrame is highly fragmented.  This is usually the result of calling `frame.insert` many times, which has poor performance.  Consider joining all columns at once using pd.concat(axis=1) instead. To get a de-fragmented frame, use `newframe = frame.copy()`\n",
      "  df_test[new_columns] = encoder.transform(df_test[columns_categorical])\n",
      "C:\\Users\\samwa\\AppData\\Local\\Temp\\ipykernel_13900\\1602800353.py:2: PerformanceWarning: DataFrame is highly fragmented.  This is usually the result of calling `frame.insert` many times, which has poor performance.  Consider joining all columns at once using pd.concat(axis=1) instead. To get a de-fragmented frame, use `newframe = frame.copy()`\n",
      "  df_test[new_columns] = encoder.transform(df_test[columns_categorical])\n",
      "C:\\Users\\samwa\\AppData\\Local\\Temp\\ipykernel_13900\\1602800353.py:2: PerformanceWarning: DataFrame is highly fragmented.  This is usually the result of calling `frame.insert` many times, which has poor performance.  Consider joining all columns at once using pd.concat(axis=1) instead. To get a de-fragmented frame, use `newframe = frame.copy()`\n",
      "  df_test[new_columns] = encoder.transform(df_test[columns_categorical])\n",
      "C:\\Users\\samwa\\AppData\\Local\\Temp\\ipykernel_13900\\1602800353.py:2: PerformanceWarning: DataFrame is highly fragmented.  This is usually the result of calling `frame.insert` many times, which has poor performance.  Consider joining all columns at once using pd.concat(axis=1) instead. To get a de-fragmented frame, use `newframe = frame.copy()`\n",
      "  df_test[new_columns] = encoder.transform(df_test[columns_categorical])\n",
      "C:\\Users\\samwa\\AppData\\Local\\Temp\\ipykernel_13900\\1602800353.py:2: PerformanceWarning: DataFrame is highly fragmented.  This is usually the result of calling `frame.insert` many times, which has poor performance.  Consider joining all columns at once using pd.concat(axis=1) instead. To get a de-fragmented frame, use `newframe = frame.copy()`\n",
      "  df_test[new_columns] = encoder.transform(df_test[columns_categorical])\n",
      "C:\\Users\\samwa\\AppData\\Local\\Temp\\ipykernel_13900\\1602800353.py:2: PerformanceWarning: DataFrame is highly fragmented.  This is usually the result of calling `frame.insert` many times, which has poor performance.  Consider joining all columns at once using pd.concat(axis=1) instead. To get a de-fragmented frame, use `newframe = frame.copy()`\n",
      "  df_test[new_columns] = encoder.transform(df_test[columns_categorical])\n",
      "C:\\Users\\samwa\\AppData\\Local\\Temp\\ipykernel_13900\\1602800353.py:2: PerformanceWarning: DataFrame is highly fragmented.  This is usually the result of calling `frame.insert` many times, which has poor performance.  Consider joining all columns at once using pd.concat(axis=1) instead. To get a de-fragmented frame, use `newframe = frame.copy()`\n",
      "  df_test[new_columns] = encoder.transform(df_test[columns_categorical])\n",
      "C:\\Users\\samwa\\AppData\\Local\\Temp\\ipykernel_13900\\1602800353.py:2: PerformanceWarning: DataFrame is highly fragmented.  This is usually the result of calling `frame.insert` many times, which has poor performance.  Consider joining all columns at once using pd.concat(axis=1) instead. To get a de-fragmented frame, use `newframe = frame.copy()`\n",
      "  df_test[new_columns] = encoder.transform(df_test[columns_categorical])\n",
      "C:\\Users\\samwa\\AppData\\Local\\Temp\\ipykernel_13900\\1602800353.py:2: PerformanceWarning: DataFrame is highly fragmented.  This is usually the result of calling `frame.insert` many times, which has poor performance.  Consider joining all columns at once using pd.concat(axis=1) instead. To get a de-fragmented frame, use `newframe = frame.copy()`\n",
      "  df_test[new_columns] = encoder.transform(df_test[columns_categorical])\n",
      "C:\\Users\\samwa\\AppData\\Local\\Temp\\ipykernel_13900\\1602800353.py:2: PerformanceWarning: DataFrame is highly fragmented.  This is usually the result of calling `frame.insert` many times, which has poor performance.  Consider joining all columns at once using pd.concat(axis=1) instead. To get a de-fragmented frame, use `newframe = frame.copy()`\n",
      "  df_test[new_columns] = encoder.transform(df_test[columns_categorical])\n",
      "C:\\Users\\samwa\\AppData\\Local\\Temp\\ipykernel_13900\\1602800353.py:2: PerformanceWarning: DataFrame is highly fragmented.  This is usually the result of calling `frame.insert` many times, which has poor performance.  Consider joining all columns at once using pd.concat(axis=1) instead. To get a de-fragmented frame, use `newframe = frame.copy()`\n",
      "  df_test[new_columns] = encoder.transform(df_test[columns_categorical])\n",
      "C:\\Users\\samwa\\AppData\\Local\\Temp\\ipykernel_13900\\1602800353.py:2: PerformanceWarning: DataFrame is highly fragmented.  This is usually the result of calling `frame.insert` many times, which has poor performance.  Consider joining all columns at once using pd.concat(axis=1) instead. To get a de-fragmented frame, use `newframe = frame.copy()`\n",
      "  df_test[new_columns] = encoder.transform(df_test[columns_categorical])\n",
      "C:\\Users\\samwa\\AppData\\Local\\Temp\\ipykernel_13900\\1602800353.py:2: PerformanceWarning: DataFrame is highly fragmented.  This is usually the result of calling `frame.insert` many times, which has poor performance.  Consider joining all columns at once using pd.concat(axis=1) instead. To get a de-fragmented frame, use `newframe = frame.copy()`\n",
      "  df_test[new_columns] = encoder.transform(df_test[columns_categorical])\n",
      "C:\\Users\\samwa\\AppData\\Local\\Temp\\ipykernel_13900\\1602800353.py:2: PerformanceWarning: DataFrame is highly fragmented.  This is usually the result of calling `frame.insert` many times, which has poor performance.  Consider joining all columns at once using pd.concat(axis=1) instead. To get a de-fragmented frame, use `newframe = frame.copy()`\n",
      "  df_test[new_columns] = encoder.transform(df_test[columns_categorical])\n",
      "C:\\Users\\samwa\\AppData\\Local\\Temp\\ipykernel_13900\\1602800353.py:2: PerformanceWarning: DataFrame is highly fragmented.  This is usually the result of calling `frame.insert` many times, which has poor performance.  Consider joining all columns at once using pd.concat(axis=1) instead. To get a de-fragmented frame, use `newframe = frame.copy()`\n",
      "  df_test[new_columns] = encoder.transform(df_test[columns_categorical])\n",
      "C:\\Users\\samwa\\AppData\\Local\\Temp\\ipykernel_13900\\1602800353.py:2: PerformanceWarning: DataFrame is highly fragmented.  This is usually the result of calling `frame.insert` many times, which has poor performance.  Consider joining all columns at once using pd.concat(axis=1) instead. To get a de-fragmented frame, use `newframe = frame.copy()`\n",
      "  df_test[new_columns] = encoder.transform(df_test[columns_categorical])\n",
      "C:\\Users\\samwa\\AppData\\Local\\Temp\\ipykernel_13900\\1602800353.py:2: PerformanceWarning: DataFrame is highly fragmented.  This is usually the result of calling `frame.insert` many times, which has poor performance.  Consider joining all columns at once using pd.concat(axis=1) instead. To get a de-fragmented frame, use `newframe = frame.copy()`\n",
      "  df_test[new_columns] = encoder.transform(df_test[columns_categorical])\n",
      "C:\\Users\\samwa\\AppData\\Local\\Temp\\ipykernel_13900\\1602800353.py:2: PerformanceWarning: DataFrame is highly fragmented.  This is usually the result of calling `frame.insert` many times, which has poor performance.  Consider joining all columns at once using pd.concat(axis=1) instead. To get a de-fragmented frame, use `newframe = frame.copy()`\n",
      "  df_test[new_columns] = encoder.transform(df_test[columns_categorical])\n",
      "C:\\Users\\samwa\\AppData\\Local\\Temp\\ipykernel_13900\\1602800353.py:2: PerformanceWarning: DataFrame is highly fragmented.  This is usually the result of calling `frame.insert` many times, which has poor performance.  Consider joining all columns at once using pd.concat(axis=1) instead. To get a de-fragmented frame, use `newframe = frame.copy()`\n",
      "  df_test[new_columns] = encoder.transform(df_test[columns_categorical])\n",
      "C:\\Users\\samwa\\AppData\\Local\\Temp\\ipykernel_13900\\1602800353.py:2: PerformanceWarning: DataFrame is highly fragmented.  This is usually the result of calling `frame.insert` many times, which has poor performance.  Consider joining all columns at once using pd.concat(axis=1) instead. To get a de-fragmented frame, use `newframe = frame.copy()`\n",
      "  df_test[new_columns] = encoder.transform(df_test[columns_categorical])\n",
      "C:\\Users\\samwa\\AppData\\Local\\Temp\\ipykernel_13900\\1602800353.py:2: PerformanceWarning: DataFrame is highly fragmented.  This is usually the result of calling `frame.insert` many times, which has poor performance.  Consider joining all columns at once using pd.concat(axis=1) instead. To get a de-fragmented frame, use `newframe = frame.copy()`\n",
      "  df_test[new_columns] = encoder.transform(df_test[columns_categorical])\n",
      "C:\\Users\\samwa\\AppData\\Local\\Temp\\ipykernel_13900\\1602800353.py:2: PerformanceWarning: DataFrame is highly fragmented.  This is usually the result of calling `frame.insert` many times, which has poor performance.  Consider joining all columns at once using pd.concat(axis=1) instead. To get a de-fragmented frame, use `newframe = frame.copy()`\n",
      "  df_test[new_columns] = encoder.transform(df_test[columns_categorical])\n",
      "C:\\Users\\samwa\\AppData\\Local\\Temp\\ipykernel_13900\\1602800353.py:2: PerformanceWarning: DataFrame is highly fragmented.  This is usually the result of calling `frame.insert` many times, which has poor performance.  Consider joining all columns at once using pd.concat(axis=1) instead. To get a de-fragmented frame, use `newframe = frame.copy()`\n",
      "  df_test[new_columns] = encoder.transform(df_test[columns_categorical])\n",
      "C:\\Users\\samwa\\AppData\\Local\\Temp\\ipykernel_13900\\1602800353.py:2: PerformanceWarning: DataFrame is highly fragmented.  This is usually the result of calling `frame.insert` many times, which has poor performance.  Consider joining all columns at once using pd.concat(axis=1) instead. To get a de-fragmented frame, use `newframe = frame.copy()`\n",
      "  df_test[new_columns] = encoder.transform(df_test[columns_categorical])\n",
      "C:\\Users\\samwa\\AppData\\Local\\Temp\\ipykernel_13900\\1602800353.py:2: PerformanceWarning: DataFrame is highly fragmented.  This is usually the result of calling `frame.insert` many times, which has poor performance.  Consider joining all columns at once using pd.concat(axis=1) instead. To get a de-fragmented frame, use `newframe = frame.copy()`\n",
      "  df_test[new_columns] = encoder.transform(df_test[columns_categorical])\n",
      "C:\\Users\\samwa\\AppData\\Local\\Temp\\ipykernel_13900\\1602800353.py:2: PerformanceWarning: DataFrame is highly fragmented.  This is usually the result of calling `frame.insert` many times, which has poor performance.  Consider joining all columns at once using pd.concat(axis=1) instead. To get a de-fragmented frame, use `newframe = frame.copy()`\n",
      "  df_test[new_columns] = encoder.transform(df_test[columns_categorical])\n",
      "C:\\Users\\samwa\\AppData\\Local\\Temp\\ipykernel_13900\\1602800353.py:2: PerformanceWarning: DataFrame is highly fragmented.  This is usually the result of calling `frame.insert` many times, which has poor performance.  Consider joining all columns at once using pd.concat(axis=1) instead. To get a de-fragmented frame, use `newframe = frame.copy()`\n",
      "  df_test[new_columns] = encoder.transform(df_test[columns_categorical])\n",
      "C:\\Users\\samwa\\AppData\\Local\\Temp\\ipykernel_13900\\1602800353.py:2: PerformanceWarning: DataFrame is highly fragmented.  This is usually the result of calling `frame.insert` many times, which has poor performance.  Consider joining all columns at once using pd.concat(axis=1) instead. To get a de-fragmented frame, use `newframe = frame.copy()`\n",
      "  df_test[new_columns] = encoder.transform(df_test[columns_categorical])\n",
      "C:\\Users\\samwa\\AppData\\Local\\Temp\\ipykernel_13900\\1602800353.py:2: PerformanceWarning: DataFrame is highly fragmented.  This is usually the result of calling `frame.insert` many times, which has poor performance.  Consider joining all columns at once using pd.concat(axis=1) instead. To get a de-fragmented frame, use `newframe = frame.copy()`\n",
      "  df_test[new_columns] = encoder.transform(df_test[columns_categorical])\n",
      "C:\\Users\\samwa\\AppData\\Local\\Temp\\ipykernel_13900\\1602800353.py:2: PerformanceWarning: DataFrame is highly fragmented.  This is usually the result of calling `frame.insert` many times, which has poor performance.  Consider joining all columns at once using pd.concat(axis=1) instead. To get a de-fragmented frame, use `newframe = frame.copy()`\n",
      "  df_test[new_columns] = encoder.transform(df_test[columns_categorical])\n"
     ]
    }
   ],
   "source": [
    "df_train[new_columns] = encoder.transform(df_train[columns_categorical])\n",
    "df_test[new_columns] = encoder.transform(df_test[columns_categorical])"
   ]
  },
  {
   "cell_type": "code",
   "execution_count": 16,
   "id": "fc86b05b",
   "metadata": {},
   "outputs": [
    {
     "data": {
      "text/plain": [
       "(1453, 333)"
      ]
     },
     "execution_count": 16,
     "metadata": {},
     "output_type": "execute_result"
    }
   ],
   "source": [
    "df_train.shape"
   ]
  },
  {
   "cell_type": "markdown",
   "id": "641420d1",
   "metadata": {},
   "source": [
    "# Feature Scaling - Numeric"
   ]
  },
  {
   "cell_type": "code",
   "execution_count": 17,
   "id": "c712a298",
   "metadata": {},
   "outputs": [],
   "source": [
    "from sklearn.preprocessing import MinMaxScaler\n",
    "scaler = MinMaxScaler()\n",
    "scaler.fit(df_train[columns_numeric])\n",
    "df_train[columns_numeric] = scaler.transform(df_train[columns_numeric])\n",
    "df_test[columns_numeric] = scaler.transform(df_test[columns_numeric])"
   ]
  },
  {
   "cell_type": "code",
   "execution_count": 18,
   "id": "2b4a2f50",
   "metadata": {},
   "outputs": [],
   "source": [
    "columns_selected = columns_numeric + new_columns\n",
    "X_train = df_train[columns_selected]\n",
    "y_train = df_train['SalePrice']\n",
    "X_test = df_test[columns_selected]\n",
    "# y_test = "
   ]
  },
  {
   "cell_type": "code",
   "execution_count": 19,
   "id": "2f3d1af0",
   "metadata": {},
   "outputs": [
    {
     "data": {
      "text/plain": [
       "288"
      ]
     },
     "execution_count": 19,
     "metadata": {},
     "output_type": "execute_result"
    }
   ],
   "source": [
    "len(columns_selected)"
   ]
  },
  {
   "cell_type": "markdown",
   "id": "21e62e0a",
   "metadata": {},
   "source": [
    "# Feature Reduction - PCA"
   ]
  },
  {
   "cell_type": "code",
   "execution_count": 20,
   "id": "6cc54a0c",
   "metadata": {},
   "outputs": [
    {
     "data": {
      "text/html": [
       "<style>#sk-container-id-2 {color: black;background-color: white;}#sk-container-id-2 pre{padding: 0;}#sk-container-id-2 div.sk-toggleable {background-color: white;}#sk-container-id-2 label.sk-toggleable__label {cursor: pointer;display: block;width: 100%;margin-bottom: 0;padding: 0.3em;box-sizing: border-box;text-align: center;}#sk-container-id-2 label.sk-toggleable__label-arrow:before {content: \"▸\";float: left;margin-right: 0.25em;color: #696969;}#sk-container-id-2 label.sk-toggleable__label-arrow:hover:before {color: black;}#sk-container-id-2 div.sk-estimator:hover label.sk-toggleable__label-arrow:before {color: black;}#sk-container-id-2 div.sk-toggleable__content {max-height: 0;max-width: 0;overflow: hidden;text-align: left;background-color: #f0f8ff;}#sk-container-id-2 div.sk-toggleable__content pre {margin: 0.2em;color: black;border-radius: 0.25em;background-color: #f0f8ff;}#sk-container-id-2 input.sk-toggleable__control:checked~div.sk-toggleable__content {max-height: 200px;max-width: 100%;overflow: auto;}#sk-container-id-2 input.sk-toggleable__control:checked~label.sk-toggleable__label-arrow:before {content: \"▾\";}#sk-container-id-2 div.sk-estimator input.sk-toggleable__control:checked~label.sk-toggleable__label {background-color: #d4ebff;}#sk-container-id-2 div.sk-label input.sk-toggleable__control:checked~label.sk-toggleable__label {background-color: #d4ebff;}#sk-container-id-2 input.sk-hidden--visually {border: 0;clip: rect(1px 1px 1px 1px);clip: rect(1px, 1px, 1px, 1px);height: 1px;margin: -1px;overflow: hidden;padding: 0;position: absolute;width: 1px;}#sk-container-id-2 div.sk-estimator {font-family: monospace;background-color: #f0f8ff;border: 1px dotted black;border-radius: 0.25em;box-sizing: border-box;margin-bottom: 0.5em;}#sk-container-id-2 div.sk-estimator:hover {background-color: #d4ebff;}#sk-container-id-2 div.sk-parallel-item::after {content: \"\";width: 100%;border-bottom: 1px solid gray;flex-grow: 1;}#sk-container-id-2 div.sk-label:hover label.sk-toggleable__label {background-color: #d4ebff;}#sk-container-id-2 div.sk-serial::before {content: \"\";position: absolute;border-left: 1px solid gray;box-sizing: border-box;top: 0;bottom: 0;left: 50%;z-index: 0;}#sk-container-id-2 div.sk-serial {display: flex;flex-direction: column;align-items: center;background-color: white;padding-right: 0.2em;padding-left: 0.2em;position: relative;}#sk-container-id-2 div.sk-item {position: relative;z-index: 1;}#sk-container-id-2 div.sk-parallel {display: flex;align-items: stretch;justify-content: center;background-color: white;position: relative;}#sk-container-id-2 div.sk-item::before, #sk-container-id-2 div.sk-parallel-item::before {content: \"\";position: absolute;border-left: 1px solid gray;box-sizing: border-box;top: 0;bottom: 0;left: 50%;z-index: -1;}#sk-container-id-2 div.sk-parallel-item {display: flex;flex-direction: column;z-index: 1;position: relative;background-color: white;}#sk-container-id-2 div.sk-parallel-item:first-child::after {align-self: flex-end;width: 50%;}#sk-container-id-2 div.sk-parallel-item:last-child::after {align-self: flex-start;width: 50%;}#sk-container-id-2 div.sk-parallel-item:only-child::after {width: 0;}#sk-container-id-2 div.sk-dashed-wrapped {border: 1px dashed gray;margin: 0 0.4em 0.5em 0.4em;box-sizing: border-box;padding-bottom: 0.4em;background-color: white;}#sk-container-id-2 div.sk-label label {font-family: monospace;font-weight: bold;display: inline-block;line-height: 1.2em;}#sk-container-id-2 div.sk-label-container {text-align: center;}#sk-container-id-2 div.sk-container {/* jupyter's `normalize.less` sets `[hidden] { display: none; }` but bootstrap.min.css set `[hidden] { display: none !important; }` so we also need the `!important` here to be able to override the default hidden behavior on the sphinx rendered scikit-learn.org. See: https://github.com/scikit-learn/scikit-learn/issues/21755 */display: inline-block !important;position: relative;}#sk-container-id-2 div.sk-text-repr-fallback {display: none;}</style><div id=\"sk-container-id-2\" class=\"sk-top-container\"><div class=\"sk-text-repr-fallback\"><pre>PCA(n_components=0.98)</pre><b>In a Jupyter environment, please rerun this cell to show the HTML representation or trust the notebook. <br />On GitHub, the HTML representation is unable to render, please try loading this page with nbviewer.org.</b></div><div class=\"sk-container\" hidden><div class=\"sk-item\"><div class=\"sk-estimator sk-toggleable\"><input class=\"sk-toggleable__control sk-hidden--visually\" id=\"sk-estimator-id-2\" type=\"checkbox\" checked><label for=\"sk-estimator-id-2\" class=\"sk-toggleable__label sk-toggleable__label-arrow\">PCA</label><div class=\"sk-toggleable__content\"><pre>PCA(n_components=0.98)</pre></div></div></div></div></div>"
      ],
      "text/plain": [
       "PCA(n_components=0.98)"
      ]
     },
     "execution_count": 20,
     "metadata": {},
     "output_type": "execute_result"
    }
   ],
   "source": [
    "from sklearn.decomposition import PCA\n",
    "pca = PCA(n_components=0.98)\n",
    "pca.fit(X_train)  # Finds out principal components (Eigen Vectors)"
   ]
  },
  {
   "cell_type": "code",
   "execution_count": 21,
   "id": "6a75bdb6",
   "metadata": {},
   "outputs": [
    {
     "data": {
      "text/plain": [
       "138"
      ]
     },
     "execution_count": 21,
     "metadata": {},
     "output_type": "execute_result"
    }
   ],
   "source": [
    "pca.n_components_"
   ]
  },
  {
   "cell_type": "code",
   "execution_count": 22,
   "id": "13600ff8",
   "metadata": {},
   "outputs": [],
   "source": [
    "X_train_red = pca.transform(X_train)\n",
    "X_test_red = pca.transform(X_test)"
   ]
  },
  {
   "cell_type": "code",
   "execution_count": 23,
   "id": "62d46116",
   "metadata": {},
   "outputs": [
    {
     "data": {
      "text/plain": [
       "(1453, 138)"
      ]
     },
     "execution_count": 23,
     "metadata": {},
     "output_type": "execute_result"
    }
   ],
   "source": [
    "X_train_red.shape"
   ]
  },
  {
   "cell_type": "markdown",
   "id": "eefdb749",
   "metadata": {},
   "source": [
    "# Model Building"
   ]
  },
  {
   "cell_type": "code",
   "execution_count": 24,
   "id": "6c104285",
   "metadata": {},
   "outputs": [],
   "source": [
    "from sklearn.ensemble import RandomForestRegressor"
   ]
  },
  {
   "cell_type": "code",
   "execution_count": 25,
   "id": "db7bd149",
   "metadata": {},
   "outputs": [],
   "source": [
    "params={'max_depth':[4,5,6,7,8,9],'min_samples_leaf':[5,6,7,8,9,10],'n_estimators':[10,30,50,100,175,200]}"
   ]
  },
  {
   "cell_type": "code",
   "execution_count": 26,
   "id": "a09938e4",
   "metadata": {},
   "outputs": [],
   "source": [
    "from sklearn.model_selection import GridSearchCV\n",
    "gridcv=GridSearchCV(estimator=RandomForestRegressor(random_state=1),param_grid=params,verbose=0,n_jobs=5,cv=5)"
   ]
  },
  {
   "cell_type": "code",
   "execution_count": 27,
   "id": "93361a56",
   "metadata": {},
   "outputs": [
    {
     "data": {
      "text/html": [
       "<style>#sk-container-id-3 {color: black;background-color: white;}#sk-container-id-3 pre{padding: 0;}#sk-container-id-3 div.sk-toggleable {background-color: white;}#sk-container-id-3 label.sk-toggleable__label {cursor: pointer;display: block;width: 100%;margin-bottom: 0;padding: 0.3em;box-sizing: border-box;text-align: center;}#sk-container-id-3 label.sk-toggleable__label-arrow:before {content: \"▸\";float: left;margin-right: 0.25em;color: #696969;}#sk-container-id-3 label.sk-toggleable__label-arrow:hover:before {color: black;}#sk-container-id-3 div.sk-estimator:hover label.sk-toggleable__label-arrow:before {color: black;}#sk-container-id-3 div.sk-toggleable__content {max-height: 0;max-width: 0;overflow: hidden;text-align: left;background-color: #f0f8ff;}#sk-container-id-3 div.sk-toggleable__content pre {margin: 0.2em;color: black;border-radius: 0.25em;background-color: #f0f8ff;}#sk-container-id-3 input.sk-toggleable__control:checked~div.sk-toggleable__content {max-height: 200px;max-width: 100%;overflow: auto;}#sk-container-id-3 input.sk-toggleable__control:checked~label.sk-toggleable__label-arrow:before {content: \"▾\";}#sk-container-id-3 div.sk-estimator input.sk-toggleable__control:checked~label.sk-toggleable__label {background-color: #d4ebff;}#sk-container-id-3 div.sk-label input.sk-toggleable__control:checked~label.sk-toggleable__label {background-color: #d4ebff;}#sk-container-id-3 input.sk-hidden--visually {border: 0;clip: rect(1px 1px 1px 1px);clip: rect(1px, 1px, 1px, 1px);height: 1px;margin: -1px;overflow: hidden;padding: 0;position: absolute;width: 1px;}#sk-container-id-3 div.sk-estimator {font-family: monospace;background-color: #f0f8ff;border: 1px dotted black;border-radius: 0.25em;box-sizing: border-box;margin-bottom: 0.5em;}#sk-container-id-3 div.sk-estimator:hover {background-color: #d4ebff;}#sk-container-id-3 div.sk-parallel-item::after {content: \"\";width: 100%;border-bottom: 1px solid gray;flex-grow: 1;}#sk-container-id-3 div.sk-label:hover label.sk-toggleable__label {background-color: #d4ebff;}#sk-container-id-3 div.sk-serial::before {content: \"\";position: absolute;border-left: 1px solid gray;box-sizing: border-box;top: 0;bottom: 0;left: 50%;z-index: 0;}#sk-container-id-3 div.sk-serial {display: flex;flex-direction: column;align-items: center;background-color: white;padding-right: 0.2em;padding-left: 0.2em;position: relative;}#sk-container-id-3 div.sk-item {position: relative;z-index: 1;}#sk-container-id-3 div.sk-parallel {display: flex;align-items: stretch;justify-content: center;background-color: white;position: relative;}#sk-container-id-3 div.sk-item::before, #sk-container-id-3 div.sk-parallel-item::before {content: \"\";position: absolute;border-left: 1px solid gray;box-sizing: border-box;top: 0;bottom: 0;left: 50%;z-index: -1;}#sk-container-id-3 div.sk-parallel-item {display: flex;flex-direction: column;z-index: 1;position: relative;background-color: white;}#sk-container-id-3 div.sk-parallel-item:first-child::after {align-self: flex-end;width: 50%;}#sk-container-id-3 div.sk-parallel-item:last-child::after {align-self: flex-start;width: 50%;}#sk-container-id-3 div.sk-parallel-item:only-child::after {width: 0;}#sk-container-id-3 div.sk-dashed-wrapped {border: 1px dashed gray;margin: 0 0.4em 0.5em 0.4em;box-sizing: border-box;padding-bottom: 0.4em;background-color: white;}#sk-container-id-3 div.sk-label label {font-family: monospace;font-weight: bold;display: inline-block;line-height: 1.2em;}#sk-container-id-3 div.sk-label-container {text-align: center;}#sk-container-id-3 div.sk-container {/* jupyter's `normalize.less` sets `[hidden] { display: none; }` but bootstrap.min.css set `[hidden] { display: none !important; }` so we also need the `!important` here to be able to override the default hidden behavior on the sphinx rendered scikit-learn.org. See: https://github.com/scikit-learn/scikit-learn/issues/21755 */display: inline-block !important;position: relative;}#sk-container-id-3 div.sk-text-repr-fallback {display: none;}</style><div id=\"sk-container-id-3\" class=\"sk-top-container\"><div class=\"sk-text-repr-fallback\"><pre>GridSearchCV(cv=5, estimator=RandomForestRegressor(random_state=1), n_jobs=5,\n",
       "             param_grid={&#x27;max_depth&#x27;: [4, 5, 6, 7, 8, 9],\n",
       "                         &#x27;min_samples_leaf&#x27;: [5, 6, 7, 8, 9, 10],\n",
       "                         &#x27;n_estimators&#x27;: [10, 30, 50, 100, 175, 200]})</pre><b>In a Jupyter environment, please rerun this cell to show the HTML representation or trust the notebook. <br />On GitHub, the HTML representation is unable to render, please try loading this page with nbviewer.org.</b></div><div class=\"sk-container\" hidden><div class=\"sk-item sk-dashed-wrapped\"><div class=\"sk-label-container\"><div class=\"sk-label sk-toggleable\"><input class=\"sk-toggleable__control sk-hidden--visually\" id=\"sk-estimator-id-3\" type=\"checkbox\" ><label for=\"sk-estimator-id-3\" class=\"sk-toggleable__label sk-toggleable__label-arrow\">GridSearchCV</label><div class=\"sk-toggleable__content\"><pre>GridSearchCV(cv=5, estimator=RandomForestRegressor(random_state=1), n_jobs=5,\n",
       "             param_grid={&#x27;max_depth&#x27;: [4, 5, 6, 7, 8, 9],\n",
       "                         &#x27;min_samples_leaf&#x27;: [5, 6, 7, 8, 9, 10],\n",
       "                         &#x27;n_estimators&#x27;: [10, 30, 50, 100, 175, 200]})</pre></div></div></div><div class=\"sk-parallel\"><div class=\"sk-parallel-item\"><div class=\"sk-item\"><div class=\"sk-label-container\"><div class=\"sk-label sk-toggleable\"><input class=\"sk-toggleable__control sk-hidden--visually\" id=\"sk-estimator-id-4\" type=\"checkbox\" ><label for=\"sk-estimator-id-4\" class=\"sk-toggleable__label sk-toggleable__label-arrow\">estimator: RandomForestRegressor</label><div class=\"sk-toggleable__content\"><pre>RandomForestRegressor(random_state=1)</pre></div></div></div><div class=\"sk-serial\"><div class=\"sk-item\"><div class=\"sk-estimator sk-toggleable\"><input class=\"sk-toggleable__control sk-hidden--visually\" id=\"sk-estimator-id-5\" type=\"checkbox\" ><label for=\"sk-estimator-id-5\" class=\"sk-toggleable__label sk-toggleable__label-arrow\">RandomForestRegressor</label><div class=\"sk-toggleable__content\"><pre>RandomForestRegressor(random_state=1)</pre></div></div></div></div></div></div></div></div></div></div>"
      ],
      "text/plain": [
       "GridSearchCV(cv=5, estimator=RandomForestRegressor(random_state=1), n_jobs=5,\n",
       "             param_grid={'max_depth': [4, 5, 6, 7, 8, 9],\n",
       "                         'min_samples_leaf': [5, 6, 7, 8, 9, 10],\n",
       "                         'n_estimators': [10, 30, 50, 100, 175, 200]})"
      ]
     },
     "execution_count": 27,
     "metadata": {},
     "output_type": "execute_result"
    }
   ],
   "source": [
    "gridcv.fit(X_train_red,y_train)"
   ]
  },
  {
   "cell_type": "code",
   "execution_count": 28,
   "id": "fc4ca94b",
   "metadata": {},
   "outputs": [
    {
     "data": {
      "text/plain": [
       "{'max_depth': 9, 'min_samples_leaf': 5, 'n_estimators': 175}"
      ]
     },
     "execution_count": 28,
     "metadata": {},
     "output_type": "execute_result"
    }
   ],
   "source": [
    "gridcv.best_params_"
   ]
  },
  {
   "cell_type": "code",
   "execution_count": 29,
   "id": "b36f8cd0",
   "metadata": {},
   "outputs": [
    {
     "data": {
      "text/plain": [
       "0.9129328597603491"
      ]
     },
     "execution_count": 29,
     "metadata": {},
     "output_type": "execute_result"
    }
   ],
   "source": [
    "\n",
    "model = RandomForestRegressor(max_depth=9,min_samples_leaf=5,n_estimators=175,random_state=1)\n",
    "model.fit(X_train_red,y_train)\n",
    "model.score(X_train_red,y_train)"
   ]
  },
  {
   "cell_type": "code",
   "execution_count": 57,
   "id": "dfda0aa5",
   "metadata": {},
   "outputs": [],
   "source": [
    "yp = model.predict(X_test_red)"
   ]
  },
  {
   "cell_type": "code",
   "execution_count": 58,
   "id": "96e77116",
   "metadata": {},
   "outputs": [],
   "source": [
    "df_submit = pd.DataFrame({'Id':df_test['Id'],'SalePrice':yp})"
   ]
  },
  {
   "cell_type": "code",
   "execution_count": 59,
   "id": "591ee689",
   "metadata": {},
   "outputs": [],
   "source": [
    "df_submit.to_csv('Houseoutlier.csv',index=False)"
   ]
  },
  {
   "cell_type": "code",
   "execution_count": 60,
   "id": "16c07229",
   "metadata": {},
   "outputs": [
    {
     "data": {
      "text/plain": [
       "array([126829.92498515, 144284.05394546, 186505.61808263, ...,\n",
       "       128849.04386786, 143192.78511788, 206670.07421373])"
      ]
     },
     "execution_count": 60,
     "metadata": {},
     "output_type": "execute_result"
    }
   ],
   "source": [
    "yp"
   ]
  },
  {
   "cell_type": "code",
   "execution_count": null,
   "id": "f7fdcffc",
   "metadata": {},
   "outputs": [],
   "source": []
  }
 ],
 "metadata": {
  "kernelspec": {
   "display_name": "Python 3 (ipykernel)",
   "language": "python",
   "name": "python3"
  },
  "language_info": {
   "codemirror_mode": {
    "name": "ipython",
    "version": 3
   },
   "file_extension": ".py",
   "mimetype": "text/x-python",
   "name": "python",
   "nbconvert_exporter": "python",
   "pygments_lexer": "ipython3",
   "version": "3.10.9"
  }
 },
 "nbformat": 4,
 "nbformat_minor": 5
}
